{
 "cells": [
  {
   "cell_type": "markdown",
   "metadata": {},
   "source": [
    "<h1><center>Nigeria COVID-19 Data Analysis using Python</center></h1>"
   ]
  },
  {
   "cell_type": "markdown",
   "metadata": {},
   "source": [
    "<img src=\"covid.png\" width=\"300\" height=\"100\">"
   ]
  },
  {
   "cell_type": "markdown",
   "metadata": {},
   "source": [
    "### Overview\n",
    "\n",
    "Coronavirus disease (COVID-19) is an infectious disease caused by a newly discovered coronavirus, and it has affected significant parts of the world, Nigeria included. In this project, you will employ data science & analytics skills to collect data from different sources, combine and explore the data, perform analysis, create visualizations, and generate insights. \n",
    "\n",
    "You have data that includes but not limited to confirmed, death, recovered & active cases, economic, and vulnerability index data. The goal of this project is to answer real-world questions by considering an in-depth analytical approach.  "
   ]
  },
  {
   "cell_type": "code",
   "execution_count": null,
   "metadata": {},
   "outputs": [],
   "source": []
  },
  {
   "cell_type": "markdown",
   "metadata": {},
   "source": [
    "## Task 1 - Data Collection\n",
    "\n",
    "Here you will obtain the required data for the analysis. As described in the project instructions, you will perform a web scrap to obtain data from the NCDC website, import data from the JoHn Hopkins repository, and import the provided external data."
   ]
  },
  {
   "cell_type": "code",
   "execution_count": null,
   "metadata": {},
   "outputs": [],
   "source": []
  },
  {
   "cell_type": "markdown",
   "metadata": {},
   "source": [
    "### A - NCDC Website scrap\n",
    "Website - https://covid19.ncdc.gov.ng/"
   ]
  },
  {
   "cell_type": "code",
   "execution_count": 1,
   "metadata": {},
   "outputs": [],
   "source": [
    "import requests\n",
    "import numpy as np\n",
    "import urllib.request\n",
    "import pandas as pd\n",
    "import csv\n",
    "from bs4 import BeautifulSoup\n",
    "import seaborn as sns\n",
    "sns.set_style(\"darkgrid\")\n",
    "import matplotlib.pyplot as plt\n",
    "%matplotlib inline\n",
    "plt.style.use('fivethirtyeight')  \n",
    "import warnings\n",
    "warnings.filterwarnings('ignore')"
   ]
  },
  {
   "cell_type": "code",
   "execution_count": 2,
   "metadata": {},
   "outputs": [
    {
     "name": "stdout",
     "output_type": "stream",
     "text": [
      "200\n"
     ]
    }
   ],
   "source": [
    "# Assign the url of the webpage to a variable\n",
    "url = 'https://covid19.ncdc.gov.ng/'\n",
    "\n",
    "#Assign the result of a request of the webpage to a variable using requests.get() method\n",
    "response = requests.get(url)\n",
    "\n",
    "#Get the status_code of the feedback. \n",
    "#Status_code that begins with 2 generally indicate success.\n",
    "print(response.status_code)"
   ]
  },
  {
   "cell_type": "code",
   "execution_count": 3,
   "metadata": {},
   "outputs": [],
   "source": [
    "#Read the text-based contents of the web files\n",
    "#To make the text more readable than the way it comes from the request modules, \n",
    "#BeautifulSoup module will be used to parse data from the html files\n",
    "soup = BeautifulSoup(response.text,\"html.parser\")"
   ]
  },
  {
   "cell_type": "code",
   "execution_count": 4,
   "metadata": {},
   "outputs": [],
   "source": [
    "#Extract from the web file, table with id:custom1 using BeautifulSoup's findAll() method\n",
    "table = soup.findAll('table',{\"id\":\"custom1\"})[0]\n",
    "values =[]"
   ]
  },
  {
   "cell_type": "code",
   "execution_count": 5,
   "metadata": {},
   "outputs": [],
   "source": [
    "#Extract the table rows from the table with list 'tr' argument in table.findAll() method\n",
    "tr = table.findAll(['tr'])"
   ]
  },
  {
   "cell_type": "code",
   "execution_count": 6,
   "metadata": {},
   "outputs": [],
   "source": [
    "#Create a csv file 'nig_covid.csv' and open in append mode\n",
    "csvFile = open(\"nig_covid.csv\",'wt',newline='',encoding='utf-8')\n",
    "\n",
    "#Write the extracted data to the file using the .writer()method\n",
    "writer = csv.writer(csvFile)  \n",
    "\n",
    "#Use for loop to extract all the table_head 'th' and table_data 'td' from the table\n",
    "#Remove the newline in the text column of 'th' using strip() method\n",
    "#Replace the newline in 'td' with space(' ') using replace() method\n",
    "#Write data into the file with writereow() method\n",
    "try:\n",
    "    for cell in tr:\n",
    "        th = cell.find_all('th')\n",
    "        th_data = [col.text.strip('\\n') for col in th]\n",
    "        td = cell.find_all('td')\n",
    "        row = [i.text.replace('\\n','') for i in td]\n",
    "        writer.writerow(th_data+row) \n",
    "        \n",
    "#Close the csvFile from append mode\n",
    "finally:\n",
    "    csvFile.close()"
   ]
  },
  {
   "cell_type": "code",
   "execution_count": 7,
   "metadata": {},
   "outputs": [],
   "source": [
    "# Save the data to a DataFrame object.\n",
    "dfnig = pd.read_csv('nig_covid.csv')"
   ]
  },
  {
   "cell_type": "markdown",
   "metadata": {},
   "source": [
    "#### B - John Hopkins Data Repository\n",
    "Here you will obtain data from the John Hopkins repository. Your task here involves saving the data from the GitHub repo link to DataFrame for further analysis. Find the links below.\n",
    "\n",
    "- Global Daily Confirmed Cases - Click [here]('https://raw.githubusercontent.com/CSSEGISandData/COVID-19/master/csse_covid_19_data/csse_covid_19_time_series/time_series_covid19_confirmed_global.csv')\n",
    "- Global Daily Recovered Cases - Click [here]('https://raw.githubusercontent.com/CSSEGISandData/COVID-19/master/csse_covid_19_data/csse_covid_19_time_series/time_series_covid19_recovered_global.csv')\n",
    "- Global Daily Death Cases - Click [here]('https://raw.githubusercontent.com/CSSEGISandData/COVID-19/master/csse_covid_19_data/csse_covid_19_time_series/time_series_covid19_deaths_global.csv')"
   ]
  },
  {
   "cell_type": "code",
   "execution_count": 8,
   "metadata": {},
   "outputs": [],
   "source": [
    "#df1\n",
    "confirmed_global = 'https://raw.githubusercontent.com/CSSEGISandData/COVID-19/master/csse_covid_19_data/csse_covid_19_time_series/time_series_covid19_confirmed_global.csv'\n",
    "df_confirmed_global = pd.read_csv(confirmed_global)\n",
    "\n",
    "#df2\n",
    "recovered_global = 'https://raw.githubusercontent.com/CSSEGISandData/COVID-19/master/csse_covid_19_data/csse_covid_19_time_series/time_series_covid19_recovered_global.csv'\n",
    "df_recovered_global = pd.read_csv(recovered_global)\n",
    "\n",
    "#df3\n",
    "deaths_global = 'https://raw.githubusercontent.com/CSSEGISandData/COVID-19/master/csse_covid_19_data/csse_covid_19_time_series/time_series_covid19_deaths_global.csv'\n",
    "df_deaths_global = pd.read_csv(deaths_global)"
   ]
  },
  {
   "cell_type": "markdown",
   "metadata": {},
   "source": [
    "\n",
    "## C - External Data\n",
    "Save the external data to a DataFrame"
   ]
  },
  {
   "cell_type": "code",
   "execution_count": 19,
   "metadata": {},
   "outputs": [],
   "source": [
    "df_external = pd.read_csv('covid_external.csv')"
   ]
  },
  {
   "cell_type": "code",
   "execution_count": 20,
   "metadata": {},
   "outputs": [],
   "source": [
    "df_budget = pd.read_csv('Budget data.csv')"
   ]
  },
  {
   "cell_type": "code",
   "execution_count": 21,
   "metadata": {},
   "outputs": [],
   "source": [
    "df_readgdp = pd.read_csv('RealGDP.csv')"
   ]
  },
  {
   "cell_type": "markdown",
   "metadata": {},
   "source": [
    "## Task 2 - View the data\n",
    "Obtain basic information about the data using the head() and info() method."
   ]
  },
  {
   "cell_type": "code",
   "execution_count": 22,
   "metadata": {},
   "outputs": [
    {
     "data": {
      "text/html": [
       "<div>\n",
       "<style scoped>\n",
       "    .dataframe tbody tr th:only-of-type {\n",
       "        vertical-align: middle;\n",
       "    }\n",
       "\n",
       "    .dataframe tbody tr th {\n",
       "        vertical-align: top;\n",
       "    }\n",
       "\n",
       "    .dataframe thead th {\n",
       "        text-align: right;\n",
       "    }\n",
       "</style>\n",
       "<table border=\"1\" class=\"dataframe\">\n",
       "  <thead>\n",
       "    <tr style=\"text-align: right;\">\n",
       "      <th></th>\n",
       "      <th>States Affected</th>\n",
       "      <th>No. of Cases (Lab Confirmed)</th>\n",
       "      <th>No. of Cases (on admission)</th>\n",
       "      <th>No. Discharged</th>\n",
       "      <th>No. of Deaths</th>\n",
       "    </tr>\n",
       "  </thead>\n",
       "  <tbody>\n",
       "    <tr>\n",
       "      <td>0</td>\n",
       "      <td>...</td>\n",
       "      <td>57,081                                        ...</td>\n",
       "      <td>341</td>\n",
       "      <td>56,315                                        ...</td>\n",
       "      <td>425</td>\n",
       "    </tr>\n",
       "    <tr>\n",
       "      <td>1</td>\n",
       "      <td>...</td>\n",
       "      <td>19,490                                        ...</td>\n",
       "      <td>3,713</td>\n",
       "      <td>15,621                                        ...</td>\n",
       "      <td>156</td>\n",
       "    </tr>\n",
       "    <tr>\n",
       "      <td>2</td>\n",
       "      <td>...</td>\n",
       "      <td>8,995</td>\n",
       "      <td>78</td>\n",
       "      <td>8,860</td>\n",
       "      <td>57</td>\n",
       "    </tr>\n",
       "    <tr>\n",
       "      <td>3</td>\n",
       "      <td>...</td>\n",
       "      <td>8,825</td>\n",
       "      <td>130</td>\n",
       "      <td>8,630</td>\n",
       "      <td>65</td>\n",
       "    </tr>\n",
       "    <tr>\n",
       "      <td>4</td>\n",
       "      <td>...</td>\n",
       "      <td>6,831</td>\n",
       "      <td>204</td>\n",
       "      <td>6,529</td>\n",
       "      <td>98</td>\n",
       "    </tr>\n",
       "  </tbody>\n",
       "</table>\n",
       "</div>"
      ],
      "text/plain": [
       "                                     States Affected  \\\n",
       "0                                                ...   \n",
       "1                                                ...   \n",
       "2                                                ...   \n",
       "3                                                ...   \n",
       "4                                                ...   \n",
       "\n",
       "                        No. of Cases (Lab Confirmed)  \\\n",
       "0  57,081                                        ...   \n",
       "1  19,490                                        ...   \n",
       "2  8,995                                               \n",
       "3  8,825                                               \n",
       "4  6,831                                               \n",
       "\n",
       "                         No. of Cases (on admission)  \\\n",
       "0    341                                               \n",
       "1  3,713                                               \n",
       "2     78                                               \n",
       "3    130                                               \n",
       "4    204                                               \n",
       "\n",
       "                                      No. Discharged  No. of Deaths  \n",
       "0  56,315                                        ...            425  \n",
       "1  15,621                                        ...            156  \n",
       "2  8,860                                                         57  \n",
       "3  8,630                                                         65  \n",
       "4  6,529                                                         98  "
      ]
     },
     "execution_count": 22,
     "metadata": {},
     "output_type": "execute_result"
    }
   ],
   "source": [
    "dfnig.head()"
   ]
  },
  {
   "cell_type": "code",
   "execution_count": 23,
   "metadata": {},
   "outputs": [
    {
     "name": "stdout",
     "output_type": "stream",
     "text": [
      "<class 'pandas.core.frame.DataFrame'>\n",
      "RangeIndex: 37 entries, 0 to 36\n",
      "Data columns (total 5 columns):\n",
      "States Affected                 37 non-null object\n",
      "No. of Cases (Lab Confirmed)    37 non-null object\n",
      "No. of Cases (on admission)     37 non-null object\n",
      "No. Discharged                  37 non-null object\n",
      "No. of Deaths                   37 non-null int64\n",
      "dtypes: int64(1), object(4)\n",
      "memory usage: 1.6+ KB\n"
     ]
    }
   ],
   "source": [
    "dfnig.info()"
   ]
  },
  {
   "cell_type": "code",
   "execution_count": 24,
   "metadata": {},
   "outputs": [
    {
     "data": {
      "text/html": [
       "<div>\n",
       "<style scoped>\n",
       "    .dataframe tbody tr th:only-of-type {\n",
       "        vertical-align: middle;\n",
       "    }\n",
       "\n",
       "    .dataframe tbody tr th {\n",
       "        vertical-align: top;\n",
       "    }\n",
       "\n",
       "    .dataframe thead th {\n",
       "        text-align: right;\n",
       "    }\n",
       "</style>\n",
       "<table border=\"1\" class=\"dataframe\">\n",
       "  <thead>\n",
       "    <tr style=\"text-align: right;\">\n",
       "      <th></th>\n",
       "      <th>Province/State</th>\n",
       "      <th>Country/Region</th>\n",
       "      <th>Lat</th>\n",
       "      <th>Long</th>\n",
       "      <th>1/22/20</th>\n",
       "      <th>1/23/20</th>\n",
       "      <th>1/24/20</th>\n",
       "      <th>1/25/20</th>\n",
       "      <th>1/26/20</th>\n",
       "      <th>1/27/20</th>\n",
       "      <th>...</th>\n",
       "      <th>3/8/21</th>\n",
       "      <th>3/9/21</th>\n",
       "      <th>3/10/21</th>\n",
       "      <th>3/11/21</th>\n",
       "      <th>3/12/21</th>\n",
       "      <th>3/13/21</th>\n",
       "      <th>3/14/21</th>\n",
       "      <th>3/15/21</th>\n",
       "      <th>3/16/21</th>\n",
       "      <th>3/17/21</th>\n",
       "    </tr>\n",
       "  </thead>\n",
       "  <tbody>\n",
       "    <tr>\n",
       "      <td>0</td>\n",
       "      <td>NaN</td>\n",
       "      <td>Afghanistan</td>\n",
       "      <td>33.93911</td>\n",
       "      <td>67.709953</td>\n",
       "      <td>0</td>\n",
       "      <td>0</td>\n",
       "      <td>0</td>\n",
       "      <td>0</td>\n",
       "      <td>0</td>\n",
       "      <td>0</td>\n",
       "      <td>...</td>\n",
       "      <td>55876</td>\n",
       "      <td>55876</td>\n",
       "      <td>55894</td>\n",
       "      <td>55917</td>\n",
       "      <td>55959</td>\n",
       "      <td>55959</td>\n",
       "      <td>55985</td>\n",
       "      <td>55985</td>\n",
       "      <td>55995</td>\n",
       "      <td>56016</td>\n",
       "    </tr>\n",
       "    <tr>\n",
       "      <td>1</td>\n",
       "      <td>NaN</td>\n",
       "      <td>Albania</td>\n",
       "      <td>41.15330</td>\n",
       "      <td>20.168300</td>\n",
       "      <td>0</td>\n",
       "      <td>0</td>\n",
       "      <td>0</td>\n",
       "      <td>0</td>\n",
       "      <td>0</td>\n",
       "      <td>0</td>\n",
       "      <td>...</td>\n",
       "      <td>113580</td>\n",
       "      <td>114209</td>\n",
       "      <td>114840</td>\n",
       "      <td>115442</td>\n",
       "      <td>116123</td>\n",
       "      <td>116821</td>\n",
       "      <td>117474</td>\n",
       "      <td>118017</td>\n",
       "      <td>118492</td>\n",
       "      <td>118938</td>\n",
       "    </tr>\n",
       "    <tr>\n",
       "      <td>2</td>\n",
       "      <td>NaN</td>\n",
       "      <td>Algeria</td>\n",
       "      <td>28.03390</td>\n",
       "      <td>1.659600</td>\n",
       "      <td>0</td>\n",
       "      <td>0</td>\n",
       "      <td>0</td>\n",
       "      <td>0</td>\n",
       "      <td>0</td>\n",
       "      <td>0</td>\n",
       "      <td>...</td>\n",
       "      <td>114382</td>\n",
       "      <td>114543</td>\n",
       "      <td>114681</td>\n",
       "      <td>114851</td>\n",
       "      <td>115008</td>\n",
       "      <td>115143</td>\n",
       "      <td>115265</td>\n",
       "      <td>115410</td>\n",
       "      <td>115540</td>\n",
       "      <td>115688</td>\n",
       "    </tr>\n",
       "    <tr>\n",
       "      <td>3</td>\n",
       "      <td>NaN</td>\n",
       "      <td>Andorra</td>\n",
       "      <td>42.50630</td>\n",
       "      <td>1.521800</td>\n",
       "      <td>0</td>\n",
       "      <td>0</td>\n",
       "      <td>0</td>\n",
       "      <td>0</td>\n",
       "      <td>0</td>\n",
       "      <td>0</td>\n",
       "      <td>...</td>\n",
       "      <td>11069</td>\n",
       "      <td>11089</td>\n",
       "      <td>11130</td>\n",
       "      <td>11130</td>\n",
       "      <td>11199</td>\n",
       "      <td>11228</td>\n",
       "      <td>11266</td>\n",
       "      <td>11289</td>\n",
       "      <td>11319</td>\n",
       "      <td>11360</td>\n",
       "    </tr>\n",
       "    <tr>\n",
       "      <td>4</td>\n",
       "      <td>NaN</td>\n",
       "      <td>Angola</td>\n",
       "      <td>-11.20270</td>\n",
       "      <td>17.873900</td>\n",
       "      <td>0</td>\n",
       "      <td>0</td>\n",
       "      <td>0</td>\n",
       "      <td>0</td>\n",
       "      <td>0</td>\n",
       "      <td>0</td>\n",
       "      <td>...</td>\n",
       "      <td>21108</td>\n",
       "      <td>21114</td>\n",
       "      <td>21161</td>\n",
       "      <td>21205</td>\n",
       "      <td>21265</td>\n",
       "      <td>21323</td>\n",
       "      <td>21380</td>\n",
       "      <td>21407</td>\n",
       "      <td>21446</td>\n",
       "      <td>21489</td>\n",
       "    </tr>\n",
       "  </tbody>\n",
       "</table>\n",
       "<p>5 rows × 425 columns</p>\n",
       "</div>"
      ],
      "text/plain": [
       "  Province/State Country/Region       Lat       Long  1/22/20  1/23/20  \\\n",
       "0            NaN    Afghanistan  33.93911  67.709953        0        0   \n",
       "1            NaN        Albania  41.15330  20.168300        0        0   \n",
       "2            NaN        Algeria  28.03390   1.659600        0        0   \n",
       "3            NaN        Andorra  42.50630   1.521800        0        0   \n",
       "4            NaN         Angola -11.20270  17.873900        0        0   \n",
       "\n",
       "   1/24/20  1/25/20  1/26/20  1/27/20  ...  3/8/21  3/9/21  3/10/21  3/11/21  \\\n",
       "0        0        0        0        0  ...   55876   55876    55894    55917   \n",
       "1        0        0        0        0  ...  113580  114209   114840   115442   \n",
       "2        0        0        0        0  ...  114382  114543   114681   114851   \n",
       "3        0        0        0        0  ...   11069   11089    11130    11130   \n",
       "4        0        0        0        0  ...   21108   21114    21161    21205   \n",
       "\n",
       "   3/12/21  3/13/21  3/14/21  3/15/21  3/16/21  3/17/21  \n",
       "0    55959    55959    55985    55985    55995    56016  \n",
       "1   116123   116821   117474   118017   118492   118938  \n",
       "2   115008   115143   115265   115410   115540   115688  \n",
       "3    11199    11228    11266    11289    11319    11360  \n",
       "4    21265    21323    21380    21407    21446    21489  \n",
       "\n",
       "[5 rows x 425 columns]"
      ]
     },
     "execution_count": 24,
     "metadata": {},
     "output_type": "execute_result"
    }
   ],
   "source": [
    "df_confirmed_global.head()"
   ]
  },
  {
   "cell_type": "code",
   "execution_count": 25,
   "metadata": {},
   "outputs": [
    {
     "data": {
      "text/html": [
       "<div>\n",
       "<style scoped>\n",
       "    .dataframe tbody tr th:only-of-type {\n",
       "        vertical-align: middle;\n",
       "    }\n",
       "\n",
       "    .dataframe tbody tr th {\n",
       "        vertical-align: top;\n",
       "    }\n",
       "\n",
       "    .dataframe thead th {\n",
       "        text-align: right;\n",
       "    }\n",
       "</style>\n",
       "<table border=\"1\" class=\"dataframe\">\n",
       "  <thead>\n",
       "    <tr style=\"text-align: right;\">\n",
       "      <th></th>\n",
       "      <th>Province/State</th>\n",
       "      <th>Country/Region</th>\n",
       "      <th>Lat</th>\n",
       "      <th>Long</th>\n",
       "      <th>1/22/20</th>\n",
       "      <th>1/23/20</th>\n",
       "      <th>1/24/20</th>\n",
       "      <th>1/25/20</th>\n",
       "      <th>1/26/20</th>\n",
       "      <th>1/27/20</th>\n",
       "      <th>...</th>\n",
       "      <th>3/8/21</th>\n",
       "      <th>3/9/21</th>\n",
       "      <th>3/10/21</th>\n",
       "      <th>3/11/21</th>\n",
       "      <th>3/12/21</th>\n",
       "      <th>3/13/21</th>\n",
       "      <th>3/14/21</th>\n",
       "      <th>3/15/21</th>\n",
       "      <th>3/16/21</th>\n",
       "      <th>3/17/21</th>\n",
       "    </tr>\n",
       "  </thead>\n",
       "  <tbody>\n",
       "    <tr>\n",
       "      <td>0</td>\n",
       "      <td>NaN</td>\n",
       "      <td>Afghanistan</td>\n",
       "      <td>33.93911</td>\n",
       "      <td>67.709953</td>\n",
       "      <td>0</td>\n",
       "      <td>0</td>\n",
       "      <td>0</td>\n",
       "      <td>0</td>\n",
       "      <td>0</td>\n",
       "      <td>0</td>\n",
       "      <td>...</td>\n",
       "      <td>49402</td>\n",
       "      <td>49409</td>\n",
       "      <td>49499</td>\n",
       "      <td>49499</td>\n",
       "      <td>49499</td>\n",
       "      <td>49471</td>\n",
       "      <td>49477</td>\n",
       "      <td>49481</td>\n",
       "      <td>49499</td>\n",
       "      <td>49536</td>\n",
       "    </tr>\n",
       "    <tr>\n",
       "      <td>1</td>\n",
       "      <td>NaN</td>\n",
       "      <td>Albania</td>\n",
       "      <td>41.15330</td>\n",
       "      <td>20.168300</td>\n",
       "      <td>0</td>\n",
       "      <td>0</td>\n",
       "      <td>0</td>\n",
       "      <td>0</td>\n",
       "      <td>0</td>\n",
       "      <td>0</td>\n",
       "      <td>...</td>\n",
       "      <td>75887</td>\n",
       "      <td>76784</td>\n",
       "      <td>77498</td>\n",
       "      <td>78259</td>\n",
       "      <td>79131</td>\n",
       "      <td>79821</td>\n",
       "      <td>80483</td>\n",
       "      <td>81061</td>\n",
       "      <td>81810</td>\n",
       "      <td>82554</td>\n",
       "    </tr>\n",
       "    <tr>\n",
       "      <td>2</td>\n",
       "      <td>NaN</td>\n",
       "      <td>Algeria</td>\n",
       "      <td>28.03390</td>\n",
       "      <td>1.659600</td>\n",
       "      <td>0</td>\n",
       "      <td>0</td>\n",
       "      <td>0</td>\n",
       "      <td>0</td>\n",
       "      <td>0</td>\n",
       "      <td>0</td>\n",
       "      <td>...</td>\n",
       "      <td>79187</td>\n",
       "      <td>79319</td>\n",
       "      <td>79428</td>\n",
       "      <td>79556</td>\n",
       "      <td>79672</td>\n",
       "      <td>79783</td>\n",
       "      <td>79887</td>\n",
       "      <td>79994</td>\n",
       "      <td>80103</td>\n",
       "      <td>80219</td>\n",
       "    </tr>\n",
       "    <tr>\n",
       "      <td>3</td>\n",
       "      <td>NaN</td>\n",
       "      <td>Andorra</td>\n",
       "      <td>42.50630</td>\n",
       "      <td>1.521800</td>\n",
       "      <td>0</td>\n",
       "      <td>0</td>\n",
       "      <td>0</td>\n",
       "      <td>0</td>\n",
       "      <td>0</td>\n",
       "      <td>0</td>\n",
       "      <td>...</td>\n",
       "      <td>10661</td>\n",
       "      <td>10685</td>\n",
       "      <td>10708</td>\n",
       "      <td>10708</td>\n",
       "      <td>10754</td>\n",
       "      <td>10775</td>\n",
       "      <td>10796</td>\n",
       "      <td>10795</td>\n",
       "      <td>10861</td>\n",
       "      <td>10883</td>\n",
       "    </tr>\n",
       "    <tr>\n",
       "      <td>4</td>\n",
       "      <td>NaN</td>\n",
       "      <td>Angola</td>\n",
       "      <td>-11.20270</td>\n",
       "      <td>17.873900</td>\n",
       "      <td>0</td>\n",
       "      <td>0</td>\n",
       "      <td>0</td>\n",
       "      <td>0</td>\n",
       "      <td>0</td>\n",
       "      <td>0</td>\n",
       "      <td>...</td>\n",
       "      <td>19657</td>\n",
       "      <td>19677</td>\n",
       "      <td>19761</td>\n",
       "      <td>19827</td>\n",
       "      <td>19835</td>\n",
       "      <td>19848</td>\n",
       "      <td>19850</td>\n",
       "      <td>19948</td>\n",
       "      <td>19971</td>\n",
       "      <td>20028</td>\n",
       "    </tr>\n",
       "  </tbody>\n",
       "</table>\n",
       "<p>5 rows × 425 columns</p>\n",
       "</div>"
      ],
      "text/plain": [
       "  Province/State Country/Region       Lat       Long  1/22/20  1/23/20  \\\n",
       "0            NaN    Afghanistan  33.93911  67.709953        0        0   \n",
       "1            NaN        Albania  41.15330  20.168300        0        0   \n",
       "2            NaN        Algeria  28.03390   1.659600        0        0   \n",
       "3            NaN        Andorra  42.50630   1.521800        0        0   \n",
       "4            NaN         Angola -11.20270  17.873900        0        0   \n",
       "\n",
       "   1/24/20  1/25/20  1/26/20  1/27/20  ...  3/8/21  3/9/21  3/10/21  3/11/21  \\\n",
       "0        0        0        0        0  ...   49402   49409    49499    49499   \n",
       "1        0        0        0        0  ...   75887   76784    77498    78259   \n",
       "2        0        0        0        0  ...   79187   79319    79428    79556   \n",
       "3        0        0        0        0  ...   10661   10685    10708    10708   \n",
       "4        0        0        0        0  ...   19657   19677    19761    19827   \n",
       "\n",
       "   3/12/21  3/13/21  3/14/21  3/15/21  3/16/21  3/17/21  \n",
       "0    49499    49471    49477    49481    49499    49536  \n",
       "1    79131    79821    80483    81061    81810    82554  \n",
       "2    79672    79783    79887    79994    80103    80219  \n",
       "3    10754    10775    10796    10795    10861    10883  \n",
       "4    19835    19848    19850    19948    19971    20028  \n",
       "\n",
       "[5 rows x 425 columns]"
      ]
     },
     "execution_count": 25,
     "metadata": {},
     "output_type": "execute_result"
    }
   ],
   "source": [
    "df_recovered_global.head()"
   ]
  },
  {
   "cell_type": "code",
   "execution_count": 26,
   "metadata": {},
   "outputs": [
    {
     "data": {
      "text/html": [
       "<div>\n",
       "<style scoped>\n",
       "    .dataframe tbody tr th:only-of-type {\n",
       "        vertical-align: middle;\n",
       "    }\n",
       "\n",
       "    .dataframe tbody tr th {\n",
       "        vertical-align: top;\n",
       "    }\n",
       "\n",
       "    .dataframe thead th {\n",
       "        text-align: right;\n",
       "    }\n",
       "</style>\n",
       "<table border=\"1\" class=\"dataframe\">\n",
       "  <thead>\n",
       "    <tr style=\"text-align: right;\">\n",
       "      <th></th>\n",
       "      <th>Province/State</th>\n",
       "      <th>Country/Region</th>\n",
       "      <th>Lat</th>\n",
       "      <th>Long</th>\n",
       "      <th>1/22/20</th>\n",
       "      <th>1/23/20</th>\n",
       "      <th>1/24/20</th>\n",
       "      <th>1/25/20</th>\n",
       "      <th>1/26/20</th>\n",
       "      <th>1/27/20</th>\n",
       "      <th>...</th>\n",
       "      <th>3/8/21</th>\n",
       "      <th>3/9/21</th>\n",
       "      <th>3/10/21</th>\n",
       "      <th>3/11/21</th>\n",
       "      <th>3/12/21</th>\n",
       "      <th>3/13/21</th>\n",
       "      <th>3/14/21</th>\n",
       "      <th>3/15/21</th>\n",
       "      <th>3/16/21</th>\n",
       "      <th>3/17/21</th>\n",
       "    </tr>\n",
       "  </thead>\n",
       "  <tbody>\n",
       "    <tr>\n",
       "      <td>0</td>\n",
       "      <td>NaN</td>\n",
       "      <td>Afghanistan</td>\n",
       "      <td>33.93911</td>\n",
       "      <td>67.709953</td>\n",
       "      <td>0</td>\n",
       "      <td>0</td>\n",
       "      <td>0</td>\n",
       "      <td>0</td>\n",
       "      <td>0</td>\n",
       "      <td>0</td>\n",
       "      <td>...</td>\n",
       "      <td>2451</td>\n",
       "      <td>2451</td>\n",
       "      <td>2451</td>\n",
       "      <td>2451</td>\n",
       "      <td>2454</td>\n",
       "      <td>2454</td>\n",
       "      <td>2457</td>\n",
       "      <td>2459</td>\n",
       "      <td>2460</td>\n",
       "      <td>2460</td>\n",
       "    </tr>\n",
       "    <tr>\n",
       "      <td>1</td>\n",
       "      <td>NaN</td>\n",
       "      <td>Albania</td>\n",
       "      <td>41.15330</td>\n",
       "      <td>20.168300</td>\n",
       "      <td>0</td>\n",
       "      <td>0</td>\n",
       "      <td>0</td>\n",
       "      <td>0</td>\n",
       "      <td>0</td>\n",
       "      <td>0</td>\n",
       "      <td>...</td>\n",
       "      <td>1956</td>\n",
       "      <td>1969</td>\n",
       "      <td>1986</td>\n",
       "      <td>2002</td>\n",
       "      <td>2018</td>\n",
       "      <td>2030</td>\n",
       "      <td>2045</td>\n",
       "      <td>2060</td>\n",
       "      <td>2077</td>\n",
       "      <td>2092</td>\n",
       "    </tr>\n",
       "    <tr>\n",
       "      <td>2</td>\n",
       "      <td>NaN</td>\n",
       "      <td>Algeria</td>\n",
       "      <td>28.03390</td>\n",
       "      <td>1.659600</td>\n",
       "      <td>0</td>\n",
       "      <td>0</td>\n",
       "      <td>0</td>\n",
       "      <td>0</td>\n",
       "      <td>0</td>\n",
       "      <td>0</td>\n",
       "      <td>...</td>\n",
       "      <td>3018</td>\n",
       "      <td>3022</td>\n",
       "      <td>3026</td>\n",
       "      <td>3028</td>\n",
       "      <td>3031</td>\n",
       "      <td>3034</td>\n",
       "      <td>3036</td>\n",
       "      <td>3040</td>\n",
       "      <td>3045</td>\n",
       "      <td>3048</td>\n",
       "    </tr>\n",
       "    <tr>\n",
       "      <td>3</td>\n",
       "      <td>NaN</td>\n",
       "      <td>Andorra</td>\n",
       "      <td>42.50630</td>\n",
       "      <td>1.521800</td>\n",
       "      <td>0</td>\n",
       "      <td>0</td>\n",
       "      <td>0</td>\n",
       "      <td>0</td>\n",
       "      <td>0</td>\n",
       "      <td>0</td>\n",
       "      <td>...</td>\n",
       "      <td>112</td>\n",
       "      <td>112</td>\n",
       "      <td>112</td>\n",
       "      <td>112</td>\n",
       "      <td>112</td>\n",
       "      <td>112</td>\n",
       "      <td>113</td>\n",
       "      <td>113</td>\n",
       "      <td>113</td>\n",
       "      <td>113</td>\n",
       "    </tr>\n",
       "    <tr>\n",
       "      <td>4</td>\n",
       "      <td>NaN</td>\n",
       "      <td>Angola</td>\n",
       "      <td>-11.20270</td>\n",
       "      <td>17.873900</td>\n",
       "      <td>0</td>\n",
       "      <td>0</td>\n",
       "      <td>0</td>\n",
       "      <td>0</td>\n",
       "      <td>0</td>\n",
       "      <td>0</td>\n",
       "      <td>...</td>\n",
       "      <td>515</td>\n",
       "      <td>516</td>\n",
       "      <td>516</td>\n",
       "      <td>517</td>\n",
       "      <td>519</td>\n",
       "      <td>520</td>\n",
       "      <td>521</td>\n",
       "      <td>521</td>\n",
       "      <td>522</td>\n",
       "      <td>522</td>\n",
       "    </tr>\n",
       "  </tbody>\n",
       "</table>\n",
       "<p>5 rows × 425 columns</p>\n",
       "</div>"
      ],
      "text/plain": [
       "  Province/State Country/Region       Lat       Long  1/22/20  1/23/20  \\\n",
       "0            NaN    Afghanistan  33.93911  67.709953        0        0   \n",
       "1            NaN        Albania  41.15330  20.168300        0        0   \n",
       "2            NaN        Algeria  28.03390   1.659600        0        0   \n",
       "3            NaN        Andorra  42.50630   1.521800        0        0   \n",
       "4            NaN         Angola -11.20270  17.873900        0        0   \n",
       "\n",
       "   1/24/20  1/25/20  1/26/20  1/27/20  ...  3/8/21  3/9/21  3/10/21  3/11/21  \\\n",
       "0        0        0        0        0  ...    2451    2451     2451     2451   \n",
       "1        0        0        0        0  ...    1956    1969     1986     2002   \n",
       "2        0        0        0        0  ...    3018    3022     3026     3028   \n",
       "3        0        0        0        0  ...     112     112      112      112   \n",
       "4        0        0        0        0  ...     515     516      516      517   \n",
       "\n",
       "   3/12/21  3/13/21  3/14/21  3/15/21  3/16/21  3/17/21  \n",
       "0     2454     2454     2457     2459     2460     2460  \n",
       "1     2018     2030     2045     2060     2077     2092  \n",
       "2     3031     3034     3036     3040     3045     3048  \n",
       "3      112      112      113      113      113      113  \n",
       "4      519      520      521      521      522      522  \n",
       "\n",
       "[5 rows x 425 columns]"
      ]
     },
     "execution_count": 26,
     "metadata": {},
     "output_type": "execute_result"
    }
   ],
   "source": [
    "df_deaths_global.head()"
   ]
  },
  {
   "cell_type": "code",
   "execution_count": 27,
   "metadata": {},
   "outputs": [
    {
     "data": {
      "text/html": [
       "<div>\n",
       "<style scoped>\n",
       "    .dataframe tbody tr th:only-of-type {\n",
       "        vertical-align: middle;\n",
       "    }\n",
       "\n",
       "    .dataframe tbody tr th {\n",
       "        vertical-align: top;\n",
       "    }\n",
       "\n",
       "    .dataframe thead th {\n",
       "        text-align: right;\n",
       "    }\n",
       "</style>\n",
       "<table border=\"1\" class=\"dataframe\">\n",
       "  <thead>\n",
       "    <tr style=\"text-align: right;\">\n",
       "      <th></th>\n",
       "      <th>states</th>\n",
       "      <th>region</th>\n",
       "      <th>Population</th>\n",
       "      <th>Overall CCVI Index</th>\n",
       "      <th>Age</th>\n",
       "      <th>Epidemiological</th>\n",
       "      <th>Fragility</th>\n",
       "      <th>Health System</th>\n",
       "      <th>Population Density</th>\n",
       "      <th>Socio-Economic</th>\n",
       "      <th>Transport Availability</th>\n",
       "      <th>Acute IHR</th>\n",
       "    </tr>\n",
       "  </thead>\n",
       "  <tbody>\n",
       "    <tr>\n",
       "      <td>0</td>\n",
       "      <td>FCT</td>\n",
       "      <td>North Central</td>\n",
       "      <td>4865000</td>\n",
       "      <td>0.3</td>\n",
       "      <td>0.0</td>\n",
       "      <td>0.9</td>\n",
       "      <td>0.4</td>\n",
       "      <td>1.0</td>\n",
       "      <td>0.9</td>\n",
       "      <td>0.6</td>\n",
       "      <td>0.2</td>\n",
       "      <td>0.79</td>\n",
       "    </tr>\n",
       "    <tr>\n",
       "      <td>1</td>\n",
       "      <td>Plateau</td>\n",
       "      <td>North Central</td>\n",
       "      <td>4766000</td>\n",
       "      <td>0.4</td>\n",
       "      <td>0.5</td>\n",
       "      <td>0.4</td>\n",
       "      <td>0.8</td>\n",
       "      <td>1.0</td>\n",
       "      <td>0.3</td>\n",
       "      <td>0.5</td>\n",
       "      <td>0.3</td>\n",
       "      <td>0.93</td>\n",
       "    </tr>\n",
       "    <tr>\n",
       "      <td>2</td>\n",
       "      <td>Kwara</td>\n",
       "      <td>North Central</td>\n",
       "      <td>3524000</td>\n",
       "      <td>0.3</td>\n",
       "      <td>0.4</td>\n",
       "      <td>0.3</td>\n",
       "      <td>0.2</td>\n",
       "      <td>0.9</td>\n",
       "      <td>0.2</td>\n",
       "      <td>0.6</td>\n",
       "      <td>0.7</td>\n",
       "      <td>0.93</td>\n",
       "    </tr>\n",
       "    <tr>\n",
       "      <td>3</td>\n",
       "      <td>Nassarawa</td>\n",
       "      <td>North Central</td>\n",
       "      <td>2783000</td>\n",
       "      <td>0.1</td>\n",
       "      <td>0.3</td>\n",
       "      <td>0.5</td>\n",
       "      <td>0.9</td>\n",
       "      <td>0.9</td>\n",
       "      <td>0.1</td>\n",
       "      <td>0.6</td>\n",
       "      <td>0.5</td>\n",
       "      <td>0.85</td>\n",
       "    </tr>\n",
       "    <tr>\n",
       "      <td>4</td>\n",
       "      <td>Niger</td>\n",
       "      <td>North Central</td>\n",
       "      <td>6260000</td>\n",
       "      <td>0.6</td>\n",
       "      <td>0.0</td>\n",
       "      <td>0.6</td>\n",
       "      <td>0.3</td>\n",
       "      <td>0.9</td>\n",
       "      <td>0.1</td>\n",
       "      <td>0.8</td>\n",
       "      <td>0.8</td>\n",
       "      <td>0.84</td>\n",
       "    </tr>\n",
       "  </tbody>\n",
       "</table>\n",
       "</div>"
      ],
      "text/plain": [
       "      states         region  Population  Overall CCVI Index  Age  \\\n",
       "0        FCT  North Central     4865000                 0.3  0.0   \n",
       "1    Plateau  North Central     4766000                 0.4  0.5   \n",
       "2      Kwara  North Central     3524000                 0.3  0.4   \n",
       "3  Nassarawa  North Central     2783000                 0.1  0.3   \n",
       "4      Niger  North Central     6260000                 0.6  0.0   \n",
       "\n",
       "   Epidemiological  Fragility  Health System  Population Density  \\\n",
       "0              0.9        0.4            1.0                 0.9   \n",
       "1              0.4        0.8            1.0                 0.3   \n",
       "2              0.3        0.2            0.9                 0.2   \n",
       "3              0.5        0.9            0.9                 0.1   \n",
       "4              0.6        0.3            0.9                 0.1   \n",
       "\n",
       "   Socio-Economic   Transport Availability  Acute IHR  \n",
       "0             0.6                      0.2       0.79  \n",
       "1             0.5                      0.3       0.93  \n",
       "2             0.6                      0.7       0.93  \n",
       "3             0.6                      0.5       0.85  \n",
       "4             0.8                      0.8       0.84  "
      ]
     },
     "execution_count": 27,
     "metadata": {},
     "output_type": "execute_result"
    }
   ],
   "source": [
    "df_external.head()"
   ]
  },
  {
   "cell_type": "code",
   "execution_count": 28,
   "metadata": {},
   "outputs": [
    {
     "name": "stdout",
     "output_type": "stream",
     "text": [
      "<class 'pandas.core.frame.DataFrame'>\n",
      "RangeIndex: 37 entries, 0 to 36\n",
      "Data columns (total 12 columns):\n",
      "states                     37 non-null object\n",
      "region                     37 non-null object\n",
      "Population                 37 non-null int64\n",
      "Overall CCVI Index         37 non-null float64\n",
      "Age                        37 non-null float64\n",
      "Epidemiological            37 non-null float64\n",
      "Fragility                  37 non-null float64\n",
      "Health System              37 non-null float64\n",
      "Population Density         37 non-null float64\n",
      "Socio-Economic             37 non-null float64\n",
      " Transport Availability    37 non-null float64\n",
      "Acute IHR                  37 non-null float64\n",
      "dtypes: float64(9), int64(1), object(2)\n",
      "memory usage: 3.6+ KB\n"
     ]
    }
   ],
   "source": [
    "df_external.info()"
   ]
  },
  {
   "cell_type": "markdown",
   "metadata": {},
   "source": [
    "## Task 3 - Data Cleaning and Preparation\n",
    "From the information obtained above, you will need to fix the data format.\n",
    "Examples:\n",
    "\n",
    "- Convert to appropriate data type.\n",
    "- Rename the columns of the scraped data.\n",
    "- Remove comma(,) in numerical data\n",
    "- Extract daily data for Nigeria from the Global daily cases data\n",
    "\n",
    "\n",
    "TODO A - Clean the scraped data"
   ]
  },
  {
   "cell_type": "code",
   "execution_count": 29,
   "metadata": {},
   "outputs": [],
   "source": [
    "dfnig.columns = ['states', 'cases_lab_confirmed', 'cases_on_admission', 'discharged', 'deaths']"
   ]
  },
  {
   "cell_type": "code",
   "execution_count": 30,
   "metadata": {},
   "outputs": [
    {
     "data": {
      "text/html": [
       "<div>\n",
       "<style scoped>\n",
       "    .dataframe tbody tr th:only-of-type {\n",
       "        vertical-align: middle;\n",
       "    }\n",
       "\n",
       "    .dataframe tbody tr th {\n",
       "        vertical-align: top;\n",
       "    }\n",
       "\n",
       "    .dataframe thead th {\n",
       "        text-align: right;\n",
       "    }\n",
       "</style>\n",
       "<table border=\"1\" class=\"dataframe\">\n",
       "  <thead>\n",
       "    <tr style=\"text-align: right;\">\n",
       "      <th></th>\n",
       "      <th>states</th>\n",
       "      <th>cases_lab_confirmed</th>\n",
       "      <th>cases_on_admission</th>\n",
       "      <th>discharged</th>\n",
       "      <th>deaths</th>\n",
       "    </tr>\n",
       "  </thead>\n",
       "  <tbody>\n",
       "    <tr>\n",
       "      <td>0</td>\n",
       "      <td>...</td>\n",
       "      <td>57,081                                        ...</td>\n",
       "      <td>341</td>\n",
       "      <td>56,315                                        ...</td>\n",
       "      <td>425</td>\n",
       "    </tr>\n",
       "    <tr>\n",
       "      <td>1</td>\n",
       "      <td>...</td>\n",
       "      <td>19,490                                        ...</td>\n",
       "      <td>3,713</td>\n",
       "      <td>15,621                                        ...</td>\n",
       "      <td>156</td>\n",
       "    </tr>\n",
       "    <tr>\n",
       "      <td>2</td>\n",
       "      <td>...</td>\n",
       "      <td>8,995</td>\n",
       "      <td>78</td>\n",
       "      <td>8,860</td>\n",
       "      <td>57</td>\n",
       "    </tr>\n",
       "    <tr>\n",
       "      <td>3</td>\n",
       "      <td>...</td>\n",
       "      <td>8,825</td>\n",
       "      <td>130</td>\n",
       "      <td>8,630</td>\n",
       "      <td>65</td>\n",
       "    </tr>\n",
       "    <tr>\n",
       "      <td>4</td>\n",
       "      <td>...</td>\n",
       "      <td>6,831</td>\n",
       "      <td>204</td>\n",
       "      <td>6,529</td>\n",
       "      <td>98</td>\n",
       "    </tr>\n",
       "  </tbody>\n",
       "</table>\n",
       "</div>"
      ],
      "text/plain": [
       "                                              states  \\\n",
       "0                                                ...   \n",
       "1                                                ...   \n",
       "2                                                ...   \n",
       "3                                                ...   \n",
       "4                                                ...   \n",
       "\n",
       "                                 cases_lab_confirmed  \\\n",
       "0  57,081                                        ...   \n",
       "1  19,490                                        ...   \n",
       "2  8,995                                               \n",
       "3  8,825                                               \n",
       "4  6,831                                               \n",
       "\n",
       "                                  cases_on_admission  \\\n",
       "0    341                                               \n",
       "1  3,713                                               \n",
       "2     78                                               \n",
       "3    130                                               \n",
       "4    204                                               \n",
       "\n",
       "                                          discharged  deaths  \n",
       "0  56,315                                        ...     425  \n",
       "1  15,621                                        ...     156  \n",
       "2  8,860                                                  57  \n",
       "3  8,630                                                  65  \n",
       "4  6,529                                                  98  "
      ]
     },
     "execution_count": 30,
     "metadata": {},
     "output_type": "execute_result"
    }
   ],
   "source": [
    "dfnig.head()"
   ]
  },
  {
   "cell_type": "code",
   "execution_count": 31,
   "metadata": {},
   "outputs": [],
   "source": [
    "# Remove the extra white spaces and comma then convert 'cases_lab_confirmed', 'cases_on_admission', 'discharged' to numeric\n",
    "dfnig = dfnig.replace({',':'', ' ':''}, regex=True)\n",
    "a = dfnig[['cases_lab_confirmed', 'cases_on_admission', 'discharged']].columns\n",
    "dfnig[a] = dfnig[a].apply(pd.to_numeric,errors='coerce')"
   ]
  },
  {
   "cell_type": "code",
   "execution_count": 32,
   "metadata": {},
   "outputs": [
    {
     "data": {
      "text/html": [
       "<div>\n",
       "<style scoped>\n",
       "    .dataframe tbody tr th:only-of-type {\n",
       "        vertical-align: middle;\n",
       "    }\n",
       "\n",
       "    .dataframe tbody tr th {\n",
       "        vertical-align: top;\n",
       "    }\n",
       "\n",
       "    .dataframe thead th {\n",
       "        text-align: right;\n",
       "    }\n",
       "</style>\n",
       "<table border=\"1\" class=\"dataframe\">\n",
       "  <thead>\n",
       "    <tr style=\"text-align: right;\">\n",
       "      <th></th>\n",
       "      <th>states</th>\n",
       "      <th>cases_lab_confirmed</th>\n",
       "      <th>cases_on_admission</th>\n",
       "      <th>discharged</th>\n",
       "      <th>deaths</th>\n",
       "    </tr>\n",
       "  </thead>\n",
       "  <tbody>\n",
       "    <tr>\n",
       "      <td>0</td>\n",
       "      <td>Lagos</td>\n",
       "      <td>57081</td>\n",
       "      <td>341</td>\n",
       "      <td>56315</td>\n",
       "      <td>425</td>\n",
       "    </tr>\n",
       "    <tr>\n",
       "      <td>1</td>\n",
       "      <td>FCT</td>\n",
       "      <td>19490</td>\n",
       "      <td>3713</td>\n",
       "      <td>15621</td>\n",
       "      <td>156</td>\n",
       "    </tr>\n",
       "    <tr>\n",
       "      <td>2</td>\n",
       "      <td>Plateau</td>\n",
       "      <td>8995</td>\n",
       "      <td>78</td>\n",
       "      <td>8860</td>\n",
       "      <td>57</td>\n",
       "    </tr>\n",
       "    <tr>\n",
       "      <td>3</td>\n",
       "      <td>Kaduna</td>\n",
       "      <td>8825</td>\n",
       "      <td>130</td>\n",
       "      <td>8630</td>\n",
       "      <td>65</td>\n",
       "    </tr>\n",
       "    <tr>\n",
       "      <td>4</td>\n",
       "      <td>Rivers</td>\n",
       "      <td>6831</td>\n",
       "      <td>204</td>\n",
       "      <td>6529</td>\n",
       "      <td>98</td>\n",
       "    </tr>\n",
       "  </tbody>\n",
       "</table>\n",
       "</div>"
      ],
      "text/plain": [
       "    states  cases_lab_confirmed  cases_on_admission  discharged  deaths\n",
       "0    Lagos                57081                 341       56315     425\n",
       "1      FCT                19490                3713       15621     156\n",
       "2  Plateau                 8995                  78        8860      57\n",
       "3   Kaduna                 8825                 130        8630      65\n",
       "4   Rivers                 6831                 204        6529      98"
      ]
     },
     "execution_count": 32,
     "metadata": {},
     "output_type": "execute_result"
    }
   ],
   "source": [
    "dfnig.head()"
   ]
  },
  {
   "cell_type": "code",
   "execution_count": 33,
   "metadata": {
    "scrolled": true
   },
   "outputs": [
    {
     "name": "stdout",
     "output_type": "stream",
     "text": [
      "<class 'pandas.core.frame.DataFrame'>\n",
      "RangeIndex: 37 entries, 0 to 36\n",
      "Data columns (total 5 columns):\n",
      "states                 37 non-null object\n",
      "cases_lab_confirmed    37 non-null int64\n",
      "cases_on_admission     37 non-null int64\n",
      "discharged             37 non-null int64\n",
      "deaths                 37 non-null int64\n",
      "dtypes: int64(4), object(1)\n",
      "memory usage: 1.6+ KB\n"
     ]
    }
   ],
   "source": [
    "dfnig.info()"
   ]
  },
  {
   "cell_type": "markdown",
   "metadata": {},
   "source": [
    "TODO B - Get a Pandas DataFrame for Daily Confirmed Cases in Nigeria. Columns are Date and Cases"
   ]
  },
  {
   "cell_type": "code",
   "execution_count": 34,
   "metadata": {
    "scrolled": true
   },
   "outputs": [],
   "source": [
    "df_confirmed_global = df_confirmed_global.drop(['Province/State', 'Lat', 'Long'], axis=1)"
   ]
  },
  {
   "cell_type": "code",
   "execution_count": 35,
   "metadata": {},
   "outputs": [],
   "source": [
    "confirmed_nig = df_confirmed_global.groupby('Country/Region').sum().loc['Nigeria']"
   ]
  },
  {
   "cell_type": "code",
   "execution_count": 36,
   "metadata": {},
   "outputs": [],
   "source": [
    "confirmed_nig = confirmed_nig.to_frame().reset_index()"
   ]
  },
  {
   "cell_type": "code",
   "execution_count": 37,
   "metadata": {},
   "outputs": [
    {
     "name": "stdout",
     "output_type": "stream",
     "text": [
      "<class 'pandas.core.frame.DataFrame'>\n",
      "RangeIndex: 421 entries, 0 to 420\n",
      "Data columns (total 2 columns):\n",
      "Date     421 non-null datetime64[ns]\n",
      "Cases    421 non-null int64\n",
      "dtypes: datetime64[ns](1), int64(1)\n",
      "memory usage: 6.7 KB\n"
     ]
    }
   ],
   "source": [
    "confirmed_nig.columns = ['Date', 'Cases']\n",
    "confirmed_nig['Date'] = pd.to_datetime(confirmed_nig['Date'])\n",
    "confirmed_nig.info()"
   ]
  },
  {
   "cell_type": "code",
   "execution_count": 38,
   "metadata": {},
   "outputs": [
    {
     "data": {
      "text/html": [
       "<div>\n",
       "<style scoped>\n",
       "    .dataframe tbody tr th:only-of-type {\n",
       "        vertical-align: middle;\n",
       "    }\n",
       "\n",
       "    .dataframe tbody tr th {\n",
       "        vertical-align: top;\n",
       "    }\n",
       "\n",
       "    .dataframe thead th {\n",
       "        text-align: right;\n",
       "    }\n",
       "</style>\n",
       "<table border=\"1\" class=\"dataframe\">\n",
       "  <thead>\n",
       "    <tr style=\"text-align: right;\">\n",
       "      <th></th>\n",
       "      <th>Date</th>\n",
       "      <th>Cases</th>\n",
       "    </tr>\n",
       "  </thead>\n",
       "  <tbody>\n",
       "    <tr>\n",
       "      <td>0</td>\n",
       "      <td>2020-01-22</td>\n",
       "      <td>0</td>\n",
       "    </tr>\n",
       "    <tr>\n",
       "      <td>1</td>\n",
       "      <td>2020-01-23</td>\n",
       "      <td>0</td>\n",
       "    </tr>\n",
       "    <tr>\n",
       "      <td>2</td>\n",
       "      <td>2020-01-24</td>\n",
       "      <td>0</td>\n",
       "    </tr>\n",
       "    <tr>\n",
       "      <td>3</td>\n",
       "      <td>2020-01-25</td>\n",
       "      <td>0</td>\n",
       "    </tr>\n",
       "    <tr>\n",
       "      <td>4</td>\n",
       "      <td>2020-01-26</td>\n",
       "      <td>0</td>\n",
       "    </tr>\n",
       "  </tbody>\n",
       "</table>\n",
       "</div>"
      ],
      "text/plain": [
       "        Date  Cases\n",
       "0 2020-01-22      0\n",
       "1 2020-01-23      0\n",
       "2 2020-01-24      0\n",
       "3 2020-01-25      0\n",
       "4 2020-01-26      0"
      ]
     },
     "execution_count": 38,
     "metadata": {},
     "output_type": "execute_result"
    }
   ],
   "source": [
    "confirmed_nig.head()"
   ]
  },
  {
   "cell_type": "markdown",
   "metadata": {},
   "source": [
    "TODO C - Get a Pandas DataFrame for Daily Recovered Cases in Nigeria. Columns are Date and Cases"
   ]
  },
  {
   "cell_type": "code",
   "execution_count": 39,
   "metadata": {},
   "outputs": [],
   "source": [
    "df_recovered_global = df_recovered_global.drop(['Province/State', 'Lat', 'Long'], axis=1)"
   ]
  },
  {
   "cell_type": "code",
   "execution_count": 40,
   "metadata": {},
   "outputs": [],
   "source": [
    "recovered_nig = df_recovered_global.groupby('Country/Region').sum().loc['Nigeria']"
   ]
  },
  {
   "cell_type": "code",
   "execution_count": 41,
   "metadata": {},
   "outputs": [],
   "source": [
    "recovered_nig = recovered_nig.to_frame().reset_index()"
   ]
  },
  {
   "cell_type": "code",
   "execution_count": 42,
   "metadata": {},
   "outputs": [
    {
     "data": {
      "text/html": [
       "<div>\n",
       "<style scoped>\n",
       "    .dataframe tbody tr th:only-of-type {\n",
       "        vertical-align: middle;\n",
       "    }\n",
       "\n",
       "    .dataframe tbody tr th {\n",
       "        vertical-align: top;\n",
       "    }\n",
       "\n",
       "    .dataframe thead th {\n",
       "        text-align: right;\n",
       "    }\n",
       "</style>\n",
       "<table border=\"1\" class=\"dataframe\">\n",
       "  <thead>\n",
       "    <tr style=\"text-align: right;\">\n",
       "      <th></th>\n",
       "      <th>index</th>\n",
       "      <th>Nigeria</th>\n",
       "    </tr>\n",
       "  </thead>\n",
       "  <tbody>\n",
       "    <tr>\n",
       "      <td>0</td>\n",
       "      <td>1/22/20</td>\n",
       "      <td>0</td>\n",
       "    </tr>\n",
       "    <tr>\n",
       "      <td>1</td>\n",
       "      <td>1/23/20</td>\n",
       "      <td>0</td>\n",
       "    </tr>\n",
       "    <tr>\n",
       "      <td>2</td>\n",
       "      <td>1/24/20</td>\n",
       "      <td>0</td>\n",
       "    </tr>\n",
       "    <tr>\n",
       "      <td>3</td>\n",
       "      <td>1/25/20</td>\n",
       "      <td>0</td>\n",
       "    </tr>\n",
       "    <tr>\n",
       "      <td>4</td>\n",
       "      <td>1/26/20</td>\n",
       "      <td>0</td>\n",
       "    </tr>\n",
       "    <tr>\n",
       "      <td>...</td>\n",
       "      <td>...</td>\n",
       "      <td>...</td>\n",
       "    </tr>\n",
       "    <tr>\n",
       "      <td>416</td>\n",
       "      <td>3/13/21</td>\n",
       "      <td>144714</td>\n",
       "    </tr>\n",
       "    <tr>\n",
       "      <td>417</td>\n",
       "      <td>3/14/21</td>\n",
       "      <td>145399</td>\n",
       "    </tr>\n",
       "    <tr>\n",
       "      <td>418</td>\n",
       "      <td>3/15/21</td>\n",
       "      <td>145752</td>\n",
       "    </tr>\n",
       "    <tr>\n",
       "      <td>419</td>\n",
       "      <td>3/16/21</td>\n",
       "      <td>146072</td>\n",
       "    </tr>\n",
       "    <tr>\n",
       "      <td>420</td>\n",
       "      <td>3/17/21</td>\n",
       "      <td>146395</td>\n",
       "    </tr>\n",
       "  </tbody>\n",
       "</table>\n",
       "<p>421 rows × 2 columns</p>\n",
       "</div>"
      ],
      "text/plain": [
       "       index  Nigeria\n",
       "0    1/22/20        0\n",
       "1    1/23/20        0\n",
       "2    1/24/20        0\n",
       "3    1/25/20        0\n",
       "4    1/26/20        0\n",
       "..       ...      ...\n",
       "416  3/13/21   144714\n",
       "417  3/14/21   145399\n",
       "418  3/15/21   145752\n",
       "419  3/16/21   146072\n",
       "420  3/17/21   146395\n",
       "\n",
       "[421 rows x 2 columns]"
      ]
     },
     "execution_count": 42,
     "metadata": {},
     "output_type": "execute_result"
    }
   ],
   "source": [
    "recovered_nig"
   ]
  },
  {
   "cell_type": "code",
   "execution_count": 43,
   "metadata": {},
   "outputs": [
    {
     "name": "stdout",
     "output_type": "stream",
     "text": [
      "<class 'pandas.core.frame.DataFrame'>\n",
      "RangeIndex: 421 entries, 0 to 420\n",
      "Data columns (total 2 columns):\n",
      "Date     421 non-null datetime64[ns]\n",
      "Cases    421 non-null int64\n",
      "dtypes: datetime64[ns](1), int64(1)\n",
      "memory usage: 6.7 KB\n"
     ]
    }
   ],
   "source": [
    "# change the columns to 'Date' and 'Cases'\n",
    "recovered_nig.columns = ['Date', 'Cases']\n",
    "\n",
    "#convert Date column to datetimd\n",
    "recovered_nig['Date'] = pd.to_datetime(recovered_nig['Date'])\n",
    "recovered_nig.info()"
   ]
  },
  {
   "cell_type": "code",
   "execution_count": 44,
   "metadata": {},
   "outputs": [
    {
     "data": {
      "text/html": [
       "<div>\n",
       "<style scoped>\n",
       "    .dataframe tbody tr th:only-of-type {\n",
       "        vertical-align: middle;\n",
       "    }\n",
       "\n",
       "    .dataframe tbody tr th {\n",
       "        vertical-align: top;\n",
       "    }\n",
       "\n",
       "    .dataframe thead th {\n",
       "        text-align: right;\n",
       "    }\n",
       "</style>\n",
       "<table border=\"1\" class=\"dataframe\">\n",
       "  <thead>\n",
       "    <tr style=\"text-align: right;\">\n",
       "      <th></th>\n",
       "      <th>Date</th>\n",
       "      <th>Cases</th>\n",
       "    </tr>\n",
       "  </thead>\n",
       "  <tbody>\n",
       "    <tr>\n",
       "      <td>416</td>\n",
       "      <td>2021-03-13</td>\n",
       "      <td>144714</td>\n",
       "    </tr>\n",
       "    <tr>\n",
       "      <td>417</td>\n",
       "      <td>2021-03-14</td>\n",
       "      <td>145399</td>\n",
       "    </tr>\n",
       "    <tr>\n",
       "      <td>418</td>\n",
       "      <td>2021-03-15</td>\n",
       "      <td>145752</td>\n",
       "    </tr>\n",
       "    <tr>\n",
       "      <td>419</td>\n",
       "      <td>2021-03-16</td>\n",
       "      <td>146072</td>\n",
       "    </tr>\n",
       "    <tr>\n",
       "      <td>420</td>\n",
       "      <td>2021-03-17</td>\n",
       "      <td>146395</td>\n",
       "    </tr>\n",
       "  </tbody>\n",
       "</table>\n",
       "</div>"
      ],
      "text/plain": [
       "          Date   Cases\n",
       "416 2021-03-13  144714\n",
       "417 2021-03-14  145399\n",
       "418 2021-03-15  145752\n",
       "419 2021-03-16  146072\n",
       "420 2021-03-17  146395"
      ]
     },
     "execution_count": 44,
     "metadata": {},
     "output_type": "execute_result"
    }
   ],
   "source": [
    "# Check the last few rows\n",
    "recovered_nig.tail()"
   ]
  },
  {
   "cell_type": "markdown",
   "metadata": {},
   "source": [
    "TODO D - Get a Pandas DataFrame for Daily Death Cases in Nigeria. Columns are Date and Cases"
   ]
  },
  {
   "cell_type": "code",
   "execution_count": 45,
   "metadata": {},
   "outputs": [
    {
     "name": "stdout",
     "output_type": "stream",
     "text": [
      "<class 'pandas.core.frame.DataFrame'>\n",
      "RangeIndex: 421 entries, 0 to 420\n",
      "Data columns (total 2 columns):\n",
      "Date     421 non-null datetime64[ns]\n",
      "Cases    421 non-null int64\n",
      "dtypes: datetime64[ns](1), int64(1)\n",
      "memory usage: 6.7 KB\n"
     ]
    }
   ],
   "source": [
    "# Just like the Dily Recovered Cases\n",
    "df_deaths_global = df_deaths_global.drop(['Province/State', 'Lat', 'Long'], axis=1)\n",
    "deaths_nig = df_deaths_global.groupby('Country/Region').sum().loc['Nigeria']\n",
    "deaths_nig = deaths_nig.to_frame().reset_index()\n",
    "deaths_nig.columns = ['Date', 'Cases']\n",
    "deaths_nig['Date'] = pd.to_datetime(deaths_nig['Date'])\n",
    "deaths_nig.info()"
   ]
  },
  {
   "cell_type": "code",
   "execution_count": 46,
   "metadata": {},
   "outputs": [
    {
     "data": {
      "text/html": [
       "<div>\n",
       "<style scoped>\n",
       "    .dataframe tbody tr th:only-of-type {\n",
       "        vertical-align: middle;\n",
       "    }\n",
       "\n",
       "    .dataframe tbody tr th {\n",
       "        vertical-align: top;\n",
       "    }\n",
       "\n",
       "    .dataframe thead th {\n",
       "        text-align: right;\n",
       "    }\n",
       "</style>\n",
       "<table border=\"1\" class=\"dataframe\">\n",
       "  <thead>\n",
       "    <tr style=\"text-align: right;\">\n",
       "      <th></th>\n",
       "      <th>Date</th>\n",
       "      <th>Cases</th>\n",
       "    </tr>\n",
       "  </thead>\n",
       "  <tbody>\n",
       "    <tr>\n",
       "      <td>0</td>\n",
       "      <td>2020-01-22</td>\n",
       "      <td>0</td>\n",
       "    </tr>\n",
       "    <tr>\n",
       "      <td>1</td>\n",
       "      <td>2020-01-23</td>\n",
       "      <td>0</td>\n",
       "    </tr>\n",
       "    <tr>\n",
       "      <td>2</td>\n",
       "      <td>2020-01-24</td>\n",
       "      <td>0</td>\n",
       "    </tr>\n",
       "    <tr>\n",
       "      <td>3</td>\n",
       "      <td>2020-01-25</td>\n",
       "      <td>0</td>\n",
       "    </tr>\n",
       "    <tr>\n",
       "      <td>4</td>\n",
       "      <td>2020-01-26</td>\n",
       "      <td>0</td>\n",
       "    </tr>\n",
       "  </tbody>\n",
       "</table>\n",
       "</div>"
      ],
      "text/plain": [
       "        Date  Cases\n",
       "0 2020-01-22      0\n",
       "1 2020-01-23      0\n",
       "2 2020-01-24      0\n",
       "3 2020-01-25      0\n",
       "4 2020-01-26      0"
      ]
     },
     "execution_count": 46,
     "metadata": {},
     "output_type": "execute_result"
    }
   ],
   "source": [
    "deaths_nig.head()"
   ]
  },
  {
   "cell_type": "markdown",
   "metadata": {},
   "source": [
    "## Task 4 - Analysis\n",
    "Here you will perform some analyses on the datasets. You are welcome to communicate findings in charts and summary.\n",
    "We have included a few TODOs to help with your analysis. However, do not let this limit your approach, feel free to include more, and be sure to support your findings with chart and summary\n",
    "\n",
    "TODO A - Generate a plot that shows the Top 10 states in terms of Confirmed Covid cases by Laboratory test"
   ]
  },
  {
   "cell_type": "code",
   "execution_count": 50,
   "metadata": {
    "scrolled": false
   },
   "outputs": [
    {
     "data": {
      "image/png": "[encoded data removed]",
      "text/plain": [
       "<Figure size 576x360 with 1 Axes>"
      ]
     },
     "metadata": {
      "needs_background": "light"
     },
     "output_type": "display_data"
    }
   ],
   "source": [
    "data = dfnig.nlargest(10, 'cases_lab_confirmed')\n",
    "fig = plt.figure(figsize=(8, 5))\n",
    "ax = sns.barplot(x='cases_lab_confirmed', y='states', data=data[['states', 'cases_lab_confirmed']])\n",
    "ax.set_title('Confirmed cases per State')\n",
    "ax.set_xlabel('Confirmed Cases by Laboratory')\n",
    "ax.set_ylabel('States');"
   ]
  },
  {
   "cell_type": "markdown",
   "metadata": {},
   "source": [
    "Top 3 States - Lagos, FCT and Plateau\n",
    "\n",
    "TODO B - Generate a plot that shows the Top 10 states in terms of Discharged Covid cases. Hint - Sort the values"
   ]
  },
  {
   "cell_type": "code",
   "execution_count": 51,
   "metadata": {},
   "outputs": [
    {
     "data": {
      "image/png": "[encoded data removed]",
      "text/plain": [
       "<Figure size 576x360 with 1 Axes>"
      ]
     },
     "metadata": {
      "needs_background": "light"
     },
     "output_type": "display_data"
    }
   ],
   "source": [
    "fig = plt.figure(figsize=(8, 5))\n",
    "ax = sns.barplot(x='discharged', y='states', data=dfnig[['states', 'discharged']].sort_values(by=['discharged'],ascending=False).loc[:10])\n",
    "ax.set_xlabel('Discharged Cases')\n",
    "ax.set_title('Discharged cases per State')\n",
    "ax.set_ylabel('States');"
   ]
  },
  {
   "cell_type": "markdown",
   "metadata": {},
   "source": [
    "Cases on admission represents the active cases in each states. Let's determine the states with high values of active cases.\n",
    "\n",
    "\n",
    "TODO C: Plot the top 10 active cases"
   ]
  },
  {
   "cell_type": "code",
   "execution_count": 52,
   "metadata": {
    "scrolled": true
   },
   "outputs": [
    {
     "data": {
      "image/png": "[encoded data removed]",
      "text/plain": [
       "<Figure size 432x288 with 1 Axes>"
      ]
     },
     "metadata": {
      "needs_background": "light"
     },
     "output_type": "display_data"
    }
   ],
   "source": [
    "ax = sns.barplot(x='cases_on_admission', y='states', data=dfnig[['states', 'cases_on_admission']].sort_values(by=['cases_on_admission'],ascending=False).loc[:10])\n",
    "ax.set_xlabel('Active Cases')\n",
    "ax.set_title('Top 10 Active Cases')\n",
    "ax.set_ylabel('States');"
   ]
  },
  {
   "cell_type": "markdown",
   "metadata": {},
   "source": [
    "From the chart above, you will discover that FCT has the highest number of active cases, even though Lagos has the highest number of confirmed cases.\n",
    "\n",
    "TODO D - Generate a line plot for the total daily confirmed, recovered and death cases in Nigeria"
   ]
  },
  {
   "cell_type": "code",
   "execution_count": 53,
   "metadata": {},
   "outputs": [
    {
     "data": {
      "image/png": "[encoded data removed]",
      "text/plain": [
       "<Figure size 432x288 with 1 Axes>"
      ]
     },
     "metadata": {
      "needs_background": "light"
     },
     "output_type": "display_data"
    }
   ],
   "source": [
    "sns.lineplot(x=\"Date\", y=\"Cases\", data=confirmed_nig)\n",
    "plt.xticks(rotation=35)\n",
    "plt.title('Total Daily Confirmed Cases in Nigeria')\n",
    "plt.show()"
   ]
  },
  {
   "cell_type": "code",
   "execution_count": 55,
   "metadata": {},
   "outputs": [
    {
     "data": {
      "image/png": "[encoded data removed]",
      "text/plain": [
       "<Figure size 432x288 with 1 Axes>"
      ]
     },
     "metadata": {
      "needs_background": "light"
     },
     "output_type": "display_data"
    }
   ],
   "source": [
    "sns.lineplot(x=\"Date\", y=\"Cases\", data=recovered_nig)\n",
    "plt.xticks(rotation=35)\n",
    "plt.title('Total Daily Recovered cases in Nigeria')\n",
    "plt.show()"
   ]
  },
  {
   "cell_type": "code",
   "execution_count": 56,
   "metadata": {},
   "outputs": [
    {
     "data": {
      "image/png": "[encoded data removed]",
      "text/plain": [
       "<Figure size 432x288 with 1 Axes>"
      ]
     },
     "metadata": {
      "needs_background": "light"
     },
     "output_type": "display_data"
    }
   ],
   "source": [
    "sns.lineplot(x=\"Date\", y=\"Cases\", data=deaths_nig)\n",
    "plt.xticks(rotation=35)\n",
    "plt.title('Total Daily Death cases in Nigeria')\n",
    "plt.show()"
   ]
  },
  {
   "cell_type": "markdown",
   "metadata": {},
   "source": [
    "\n",
    "TODO E -\n",
    "\n",
    "Determine the daily infection rate, you can use the Pandas diff method to find the derivate of the total cases.\n",
    "Generate a line plot for the above"
   ]
  },
  {
   "cell_type": "code",
   "execution_count": 57,
   "metadata": {
    "scrolled": true
   },
   "outputs": [
    {
     "data": {
      "image/png": "[encoded data removed]",
      "text/plain": [
       "<Figure size 432x288 with 1 Axes>"
      ]
     },
     "metadata": {
      "needs_background": "light"
     },
     "output_type": "display_data"
    }
   ],
   "source": [
    "y = confirmed_nig['Cases'].diff()\n",
    "sns.lineplot(x=\"Date\", y=y, data=confirmed_nig)\n",
    "plt.xticks(rotation=35)\n",
    "plt.title('Daily Infection rate in Nigeria')\n",
    "plt.show()"
   ]
  },
  {
   "cell_type": "markdown",
   "metadata": {},
   "source": [
    "The maximum figure can be observed to be around late January 2021. It is really important that people continue keep to the preventive measures during this period.\n",
    "\n",
    "TODO F -\n",
    "\n",
    "Calculate maximum infection rate for a day (Number of new cases)\n",
    "\n",
    "Find the date"
   ]
  },
  {
   "cell_type": "code",
   "execution_count": 66,
   "metadata": {},
   "outputs": [
    {
     "data": {
      "text/plain": [
       "2464.0"
      ]
     },
     "execution_count": 66,
     "metadata": {},
     "output_type": "execute_result"
    }
   ],
   "source": [
    "y.max()"
   ]
  },
  {
   "cell_type": "code",
   "execution_count": 58,
   "metadata": {},
   "outputs": [
    {
     "data": {
      "text/html": [
       "<div>\n",
       "<style scoped>\n",
       "    .dataframe tbody tr th:only-of-type {\n",
       "        vertical-align: middle;\n",
       "    }\n",
       "\n",
       "    .dataframe tbody tr th {\n",
       "        vertical-align: top;\n",
       "    }\n",
       "\n",
       "    .dataframe thead th {\n",
       "        text-align: right;\n",
       "    }\n",
       "</style>\n",
       "<table border=\"1\" class=\"dataframe\">\n",
       "  <thead>\n",
       "    <tr style=\"text-align: right;\">\n",
       "      <th></th>\n",
       "      <th>Date</th>\n",
       "      <th>Cases</th>\n",
       "      <th>IFR</th>\n",
       "    </tr>\n",
       "  </thead>\n",
       "  <tbody>\n",
       "    <tr>\n",
       "      <td>367</td>\n",
       "      <td>2021-01-23</td>\n",
       "      <td>120602</td>\n",
       "      <td>2464.0</td>\n",
       "    </tr>\n",
       "  </tbody>\n",
       "</table>\n",
       "</div>"
      ],
      "text/plain": [
       "          Date   Cases     IFR\n",
       "367 2021-01-23  120602  2464.0"
      ]
     },
     "execution_count": 58,
     "metadata": {},
     "output_type": "execute_result"
    }
   ],
   "source": [
    "confirmed_nig['IFR'] = confirmed_nig['Cases'].diff()\n",
    "confirmed_nig.loc[confirmed_nig['IFR'] == y.max()]"
   ]
  },
  {
   "cell_type": "markdown",
   "metadata": {},
   "source": [
    "\n",
    "The maximum infection rate was recorded on 23rd of January, 2021. Meaning there were 2464 new cases on that day. This result matches with the NCDC figures on their official Twitter account.\n",
    "\n",
    "TODO G - Determine the relationship between the external dataset and the NCDC COVID-19 dataset. Here you will generate a line plot of top 10 confirmed cases and the overall community vulnerability index on the same axis. From the graph, explain your observation.\n",
    "\n",
    "Steps\n",
    "\n",
    "Combine the two dataset together on a common column(states)\n",
    "\n",
    "Create a new dataframe for plotting. This DataFrame will contain top 10 states in terms of confirmed cases i.e sort by confirmed cases. Hint: Check out Pandas nlargest function. This tutorial can help out\n",
    "\n",
    "Plot both variable on the same axis. Check out this tutorial"
   ]
  },
  {
   "cell_type": "code",
   "execution_count": 59,
   "metadata": {},
   "outputs": [],
   "source": [
    "df_join = pd.merge(dfnig, df_external, how='outer', on=['states'])"
   ]
  },
  {
   "cell_type": "code",
   "execution_count": 60,
   "metadata": {},
   "outputs": [
    {
     "data": {
      "text/html": [
       "<div>\n",
       "<style scoped>\n",
       "    .dataframe tbody tr th:only-of-type {\n",
       "        vertical-align: middle;\n",
       "    }\n",
       "\n",
       "    .dataframe tbody tr th {\n",
       "        vertical-align: top;\n",
       "    }\n",
       "\n",
       "    .dataframe thead th {\n",
       "        text-align: right;\n",
       "    }\n",
       "</style>\n",
       "<table border=\"1\" class=\"dataframe\">\n",
       "  <thead>\n",
       "    <tr style=\"text-align: right;\">\n",
       "      <th></th>\n",
       "      <th>states</th>\n",
       "      <th>cases_lab_confirmed</th>\n",
       "      <th>cases_on_admission</th>\n",
       "      <th>discharged</th>\n",
       "      <th>deaths</th>\n",
       "      <th>region</th>\n",
       "      <th>Population</th>\n",
       "      <th>Overall CCVI Index</th>\n",
       "      <th>Age</th>\n",
       "      <th>Epidemiological</th>\n",
       "      <th>Fragility</th>\n",
       "      <th>Health System</th>\n",
       "      <th>Population Density</th>\n",
       "      <th>Socio-Economic</th>\n",
       "      <th>Transport Availability</th>\n",
       "      <th>Acute IHR</th>\n",
       "    </tr>\n",
       "  </thead>\n",
       "  <tbody>\n",
       "    <tr>\n",
       "      <td>0</td>\n",
       "      <td>Lagos</td>\n",
       "      <td>57081.0</td>\n",
       "      <td>341.0</td>\n",
       "      <td>56315.0</td>\n",
       "      <td>425.0</td>\n",
       "      <td>South West</td>\n",
       "      <td>13992000.0</td>\n",
       "      <td>0.0</td>\n",
       "      <td>0.1</td>\n",
       "      <td>1.0</td>\n",
       "      <td>0.3</td>\n",
       "      <td>0.1</td>\n",
       "      <td>1.0</td>\n",
       "      <td>0.1</td>\n",
       "      <td>0.4</td>\n",
       "      <td>0.93</td>\n",
       "    </tr>\n",
       "    <tr>\n",
       "      <td>1</td>\n",
       "      <td>FCT</td>\n",
       "      <td>19490.0</td>\n",
       "      <td>3713.0</td>\n",
       "      <td>15621.0</td>\n",
       "      <td>156.0</td>\n",
       "      <td>North Central</td>\n",
       "      <td>4865000.0</td>\n",
       "      <td>0.3</td>\n",
       "      <td>0.0</td>\n",
       "      <td>0.9</td>\n",
       "      <td>0.4</td>\n",
       "      <td>1.0</td>\n",
       "      <td>0.9</td>\n",
       "      <td>0.6</td>\n",
       "      <td>0.2</td>\n",
       "      <td>0.79</td>\n",
       "    </tr>\n",
       "    <tr>\n",
       "      <td>2</td>\n",
       "      <td>Plateau</td>\n",
       "      <td>8995.0</td>\n",
       "      <td>78.0</td>\n",
       "      <td>8860.0</td>\n",
       "      <td>57.0</td>\n",
       "      <td>North Central</td>\n",
       "      <td>4766000.0</td>\n",
       "      <td>0.4</td>\n",
       "      <td>0.5</td>\n",
       "      <td>0.4</td>\n",
       "      <td>0.8</td>\n",
       "      <td>1.0</td>\n",
       "      <td>0.3</td>\n",
       "      <td>0.5</td>\n",
       "      <td>0.3</td>\n",
       "      <td>0.93</td>\n",
       "    </tr>\n",
       "    <tr>\n",
       "      <td>3</td>\n",
       "      <td>Kaduna</td>\n",
       "      <td>8825.0</td>\n",
       "      <td>130.0</td>\n",
       "      <td>8630.0</td>\n",
       "      <td>65.0</td>\n",
       "      <td>North West</td>\n",
       "      <td>9227000.0</td>\n",
       "      <td>0.7</td>\n",
       "      <td>0.1</td>\n",
       "      <td>0.9</td>\n",
       "      <td>0.8</td>\n",
       "      <td>0.6</td>\n",
       "      <td>0.4</td>\n",
       "      <td>0.6</td>\n",
       "      <td>0.4</td>\n",
       "      <td>0.86</td>\n",
       "    </tr>\n",
       "    <tr>\n",
       "      <td>4</td>\n",
       "      <td>Rivers</td>\n",
       "      <td>6831.0</td>\n",
       "      <td>204.0</td>\n",
       "      <td>6529.0</td>\n",
       "      <td>98.0</td>\n",
       "      <td>South South</td>\n",
       "      <td>7763000.0</td>\n",
       "      <td>0.4</td>\n",
       "      <td>0.5</td>\n",
       "      <td>0.9</td>\n",
       "      <td>0.6</td>\n",
       "      <td>0.3</td>\n",
       "      <td>0.9</td>\n",
       "      <td>0.1</td>\n",
       "      <td>0.1</td>\n",
       "      <td>1.00</td>\n",
       "    </tr>\n",
       "  </tbody>\n",
       "</table>\n",
       "</div>"
      ],
      "text/plain": [
       "    states  cases_lab_confirmed  cases_on_admission  discharged  deaths  \\\n",
       "0    Lagos              57081.0               341.0     56315.0   425.0   \n",
       "1      FCT              19490.0              3713.0     15621.0   156.0   \n",
       "2  Plateau               8995.0                78.0      8860.0    57.0   \n",
       "3   Kaduna               8825.0               130.0      8630.0    65.0   \n",
       "4   Rivers               6831.0               204.0      6529.0    98.0   \n",
       "\n",
       "          region  Population  Overall CCVI Index  Age  Epidemiological  \\\n",
       "0     South West  13992000.0                 0.0  0.1              1.0   \n",
       "1  North Central   4865000.0                 0.3  0.0              0.9   \n",
       "2  North Central   4766000.0                 0.4  0.5              0.4   \n",
       "3     North West   9227000.0                 0.7  0.1              0.9   \n",
       "4    South South   7763000.0                 0.4  0.5              0.9   \n",
       "\n",
       "   Fragility  Health System  Population Density  Socio-Economic  \\\n",
       "0        0.3            0.1                 1.0             0.1   \n",
       "1        0.4            1.0                 0.9             0.6   \n",
       "2        0.8            1.0                 0.3             0.5   \n",
       "3        0.8            0.6                 0.4             0.6   \n",
       "4        0.6            0.3                 0.9             0.1   \n",
       "\n",
       "    Transport Availability  Acute IHR  \n",
       "0                      0.4       0.93  \n",
       "1                      0.2       0.79  \n",
       "2                      0.3       0.93  \n",
       "3                      0.4       0.86  \n",
       "4                      0.1       1.00  "
      ]
     },
     "execution_count": 60,
     "metadata": {},
     "output_type": "execute_result"
    }
   ],
   "source": [
    "df_join.head()"
   ]
  },
  {
   "cell_type": "code",
   "execution_count": 61,
   "metadata": {},
   "outputs": [],
   "source": [
    "df_tcases = df_join.nlargest(11, 'cases_lab_confirmed')"
   ]
  },
  {
   "cell_type": "code",
   "execution_count": 62,
   "metadata": {},
   "outputs": [
    {
     "data": {
      "image/png": "[encoded data removed]",
      "text/plain": [
       "<Figure size 432x288 with 2 Axes>"
      ]
     },
     "metadata": {
      "needs_background": "light"
     },
     "output_type": "display_data"
    }
   ],
   "source": [
    "fig = plt.figure()\n",
    "ax1 = fig.add_subplot(111)\n",
    "ax1.plot(df_tcases['states'], df_tcases['cases_lab_confirmed'])\n",
    "ax1.set_ylabel('Confirmed Cases (Laboratory)')\n",
    "ax2 = ax1.twinx()\n",
    "ax2.plot(df_tcases['states'], df_tcases['Overall CCVI Index'], 'r-')\n",
    "ax2.set_ylabel('Overall CCVI Index', color='r')\n",
    "for tl in ax2.get_yticklabels():\n",
    "    tl.set_color('r')\n",
    "plt.setp(ax1.xaxis.get_majorticklabels(), rotation=90)\n",
    "plt.show()"
   ]
  },
  {
   "cell_type": "markdown",
   "metadata": {},
   "source": [
    "#### Write Your Observation Here\n",
    "##### Observation\n",
    "You will notice that the states with the highest vulnerability index score in relation to the confirmed cases are Northern states with weak health systems, more poverty etc. Lagos has a high number of confirmed cases but has less vulnerability index score because of good health system, more social distancing etc.\n",
    "\n",
    "TODO I - Determine the relationship between the external dataset and the NCDC COVID-19 dataset.\n",
    "\n",
    "- Here you will generate a regression plot between two variables to visualize the linear relationships - Confirmed Cases and Population Density. Hint: Check out Seaborn [Regression Plot]('https://seaborn.pydata.org/generated/seaborn.regplot.html').\n",
    "- Provide a summary of your observation"
   ]
  },
  {
   "cell_type": "code",
   "execution_count": 86,
   "metadata": {},
   "outputs": [
    {
     "data": {
      "text/plain": [
       "<matplotlib.axes._subplots.AxesSubplot at 0x252cfa7ec48>"
      ]
     },
     "execution_count": 86,
     "metadata": {},
     "output_type": "execute_result"
    },
    {
     "data": {
      "image/png": "[encoded data removed]",
      "text/plain": [
       "<Figure size 432x288 with 1 Axes>"
      ]
     },
     "metadata": {
      "needs_background": "light"
     },
     "output_type": "display_data"
    }
   ],
   "source": [
    "sns.regplot(df_tcases['Population Density'], np.log(df_tcases['cases_lab_confirmed']))"
   ]
  },
  {
   "cell_type": "markdown",
   "metadata": {},
   "source": [
    "#### Observation\n",
    "Confirmed cases and Population density have positive correlation. There are high cases in areas that are densely populated."
   ]
  },
  {
   "cell_type": "markdown",
   "metadata": {},
   "source": [
    "TODO J -\n",
    "\n",
    "- Provide more analyses by extending TODO G & H. Meaning, determine relationships between more features.\n",
    "- Provide a detailed summary of your findings.\n",
    "- Note that you can have as many as possible."
   ]
  },
  {
   "cell_type": "markdown",
   "metadata": {},
   "source": [
    "#### Impact on the Nigeria Economy\n",
    "\n",
    "\n",
    "#### TODO K -Determine the effect of the Pandemic on the economy. A way to do this is to explore the initial and the revised budget (from budget data)."
   ]
  },
  {
   "cell_type": "markdown",
   "metadata": {},
   "source": [
    "Steps\n",
    "\n",
    "- Combine the budget data with your data on common column(states)\n",
    "- Create a groupby object, by grouping by region and aggregating on Initial, Revised budget and confirmed cases. Sum is the aggregating function\n",
    "- Determine the changes in budget(Initial - Revised)\n",
    "- Check your groupby data or object, write down your observation. For example, what region has the highest reduction in budget and why is that?\n",
    "- Generate a plot for your result. e.g barplot showing total reduction for each region."
   ]
  },
  {
   "cell_type": "code",
   "execution_count": 64,
   "metadata": {},
   "outputs": [],
   "source": [
    "df_join2 = pd.merge(df_join, df_budget, how='outer', on=['states'])"
   ]
  },
  {
   "cell_type": "code",
   "execution_count": 65,
   "metadata": {},
   "outputs": [
    {
     "data": {
      "text/html": [
       "<div>\n",
       "<style scoped>\n",
       "    .dataframe tbody tr th:only-of-type {\n",
       "        vertical-align: middle;\n",
       "    }\n",
       "\n",
       "    .dataframe tbody tr th {\n",
       "        vertical-align: top;\n",
       "    }\n",
       "\n",
       "    .dataframe thead th {\n",
       "        text-align: right;\n",
       "    }\n",
       "</style>\n",
       "<table border=\"1\" class=\"dataframe\">\n",
       "  <thead>\n",
       "    <tr style=\"text-align: right;\">\n",
       "      <th></th>\n",
       "      <th>states</th>\n",
       "      <th>cases_lab_confirmed</th>\n",
       "      <th>cases_on_admission</th>\n",
       "      <th>discharged</th>\n",
       "      <th>deaths</th>\n",
       "      <th>region</th>\n",
       "      <th>Population</th>\n",
       "      <th>Overall CCVI Index</th>\n",
       "      <th>Age</th>\n",
       "      <th>Epidemiological</th>\n",
       "      <th>Fragility</th>\n",
       "      <th>Health System</th>\n",
       "      <th>Population Density</th>\n",
       "      <th>Socio-Economic</th>\n",
       "      <th>Transport Availability</th>\n",
       "      <th>Acute IHR</th>\n",
       "      <th>Initial_budget (Bn)</th>\n",
       "      <th>Revised_budget (Bn)</th>\n",
       "    </tr>\n",
       "  </thead>\n",
       "  <tbody>\n",
       "    <tr>\n",
       "      <td>0</td>\n",
       "      <td>Lagos</td>\n",
       "      <td>57081.0</td>\n",
       "      <td>341.0</td>\n",
       "      <td>56315.0</td>\n",
       "      <td>425.0</td>\n",
       "      <td>South West</td>\n",
       "      <td>13992000.0</td>\n",
       "      <td>0.0</td>\n",
       "      <td>0.1</td>\n",
       "      <td>1.0</td>\n",
       "      <td>0.3</td>\n",
       "      <td>0.1</td>\n",
       "      <td>1.0</td>\n",
       "      <td>0.1</td>\n",
       "      <td>0.4</td>\n",
       "      <td>0.93</td>\n",
       "      <td>1680.00</td>\n",
       "      <td>920.5</td>\n",
       "    </tr>\n",
       "    <tr>\n",
       "      <td>1</td>\n",
       "      <td>FCT</td>\n",
       "      <td>19490.0</td>\n",
       "      <td>3713.0</td>\n",
       "      <td>15621.0</td>\n",
       "      <td>156.0</td>\n",
       "      <td>North Central</td>\n",
       "      <td>4865000.0</td>\n",
       "      <td>0.3</td>\n",
       "      <td>0.0</td>\n",
       "      <td>0.9</td>\n",
       "      <td>0.4</td>\n",
       "      <td>1.0</td>\n",
       "      <td>0.9</td>\n",
       "      <td>0.6</td>\n",
       "      <td>0.2</td>\n",
       "      <td>0.79</td>\n",
       "      <td>278.78</td>\n",
       "      <td>199.0</td>\n",
       "    </tr>\n",
       "    <tr>\n",
       "      <td>2</td>\n",
       "      <td>Plateau</td>\n",
       "      <td>8995.0</td>\n",
       "      <td>78.0</td>\n",
       "      <td>8860.0</td>\n",
       "      <td>57.0</td>\n",
       "      <td>North Central</td>\n",
       "      <td>4766000.0</td>\n",
       "      <td>0.4</td>\n",
       "      <td>0.5</td>\n",
       "      <td>0.4</td>\n",
       "      <td>0.8</td>\n",
       "      <td>1.0</td>\n",
       "      <td>0.3</td>\n",
       "      <td>0.5</td>\n",
       "      <td>0.3</td>\n",
       "      <td>0.93</td>\n",
       "      <td>177.30</td>\n",
       "      <td>122.0</td>\n",
       "    </tr>\n",
       "    <tr>\n",
       "      <td>3</td>\n",
       "      <td>Kaduna</td>\n",
       "      <td>8825.0</td>\n",
       "      <td>130.0</td>\n",
       "      <td>8630.0</td>\n",
       "      <td>65.0</td>\n",
       "      <td>North West</td>\n",
       "      <td>9227000.0</td>\n",
       "      <td>0.7</td>\n",
       "      <td>0.1</td>\n",
       "      <td>0.9</td>\n",
       "      <td>0.8</td>\n",
       "      <td>0.6</td>\n",
       "      <td>0.4</td>\n",
       "      <td>0.6</td>\n",
       "      <td>0.4</td>\n",
       "      <td>0.86</td>\n",
       "      <td>259.25</td>\n",
       "      <td>223.6</td>\n",
       "    </tr>\n",
       "    <tr>\n",
       "      <td>4</td>\n",
       "      <td>Rivers</td>\n",
       "      <td>6831.0</td>\n",
       "      <td>204.0</td>\n",
       "      <td>6529.0</td>\n",
       "      <td>98.0</td>\n",
       "      <td>South South</td>\n",
       "      <td>7763000.0</td>\n",
       "      <td>0.4</td>\n",
       "      <td>0.5</td>\n",
       "      <td>0.9</td>\n",
       "      <td>0.6</td>\n",
       "      <td>0.3</td>\n",
       "      <td>0.9</td>\n",
       "      <td>0.1</td>\n",
       "      <td>0.1</td>\n",
       "      <td>1.00</td>\n",
       "      <td>530.80</td>\n",
       "      <td>300.4</td>\n",
       "    </tr>\n",
       "  </tbody>\n",
       "</table>\n",
       "</div>"
      ],
      "text/plain": [
       "    states  cases_lab_confirmed  cases_on_admission  discharged  deaths  \\\n",
       "0    Lagos              57081.0               341.0     56315.0   425.0   \n",
       "1      FCT              19490.0              3713.0     15621.0   156.0   \n",
       "2  Plateau               8995.0                78.0      8860.0    57.0   \n",
       "3   Kaduna               8825.0               130.0      8630.0    65.0   \n",
       "4   Rivers               6831.0               204.0      6529.0    98.0   \n",
       "\n",
       "          region  Population  Overall CCVI Index  Age  Epidemiological  \\\n",
       "0     South West  13992000.0                 0.0  0.1              1.0   \n",
       "1  North Central   4865000.0                 0.3  0.0              0.9   \n",
       "2  North Central   4766000.0                 0.4  0.5              0.4   \n",
       "3     North West   9227000.0                 0.7  0.1              0.9   \n",
       "4    South South   7763000.0                 0.4  0.5              0.9   \n",
       "\n",
       "   Fragility  Health System  Population Density  Socio-Economic  \\\n",
       "0        0.3            0.1                 1.0             0.1   \n",
       "1        0.4            1.0                 0.9             0.6   \n",
       "2        0.8            1.0                 0.3             0.5   \n",
       "3        0.8            0.6                 0.4             0.6   \n",
       "4        0.6            0.3                 0.9             0.1   \n",
       "\n",
       "    Transport Availability  Acute IHR  Initial_budget (Bn)  \\\n",
       "0                      0.4       0.93              1680.00   \n",
       "1                      0.2       0.79               278.78   \n",
       "2                      0.3       0.93               177.30   \n",
       "3                      0.4       0.86               259.25   \n",
       "4                      0.1       1.00               530.80   \n",
       "\n",
       "   Revised_budget (Bn)  \n",
       "0                920.5  \n",
       "1                199.0  \n",
       "2                122.0  \n",
       "3                223.6  \n",
       "4                300.4  "
      ]
     },
     "execution_count": 65,
     "metadata": {},
     "output_type": "execute_result"
    }
   ],
   "source": [
    "df_join2.head()"
   ]
  },
  {
   "cell_type": "code",
   "execution_count": 66,
   "metadata": {},
   "outputs": [],
   "source": [
    "dfgroup = df_join2.groupby('region')['Initial_budget (Bn)', 'Revised_budget (Bn)', 'cases_lab_confirmed'].sum()"
   ]
  },
  {
   "cell_type": "code",
   "execution_count": 67,
   "metadata": {},
   "outputs": [],
   "source": [
    "dfgroup['changes'] = abs(dfgroup['Revised_budget (Bn)'] - dfgroup['Initial_budget (Bn)'])"
   ]
  },
  {
   "cell_type": "code",
   "execution_count": 68,
   "metadata": {
    "scrolled": true
   },
   "outputs": [
    {
     "data": {
      "text/html": [
       "<div>\n",
       "<style scoped>\n",
       "    .dataframe tbody tr th:only-of-type {\n",
       "        vertical-align: middle;\n",
       "    }\n",
       "\n",
       "    .dataframe tbody tr th {\n",
       "        vertical-align: top;\n",
       "    }\n",
       "\n",
       "    .dataframe thead th {\n",
       "        text-align: right;\n",
       "    }\n",
       "</style>\n",
       "<table border=\"1\" class=\"dataframe\">\n",
       "  <thead>\n",
       "    <tr style=\"text-align: right;\">\n",
       "      <th></th>\n",
       "      <th>Initial_budget (Bn)</th>\n",
       "      <th>Revised_budget (Bn)</th>\n",
       "      <th>cases_lab_confirmed</th>\n",
       "      <th>changes</th>\n",
       "    </tr>\n",
       "    <tr>\n",
       "      <th>region</th>\n",
       "      <th></th>\n",
       "      <th></th>\n",
       "      <th></th>\n",
       "      <th></th>\n",
       "    </tr>\n",
       "  </thead>\n",
       "  <tbody>\n",
       "    <tr>\n",
       "      <td>North Central</td>\n",
       "      <td>1136.08</td>\n",
       "      <td>760.00</td>\n",
       "      <td>33648.0</td>\n",
       "      <td>376.08</td>\n",
       "    </tr>\n",
       "    <tr>\n",
       "      <td>North East</td>\n",
       "      <td>951.13</td>\n",
       "      <td>720.01</td>\n",
       "      <td>6943.0</td>\n",
       "      <td>231.12</td>\n",
       "    </tr>\n",
       "    <tr>\n",
       "      <td>North West</td>\n",
       "      <td>1385.07</td>\n",
       "      <td>1078.50</td>\n",
       "      <td>16705.0</td>\n",
       "      <td>306.57</td>\n",
       "    </tr>\n",
       "    <tr>\n",
       "      <td>South East</td>\n",
       "      <td>640.86</td>\n",
       "      <td>470.20</td>\n",
       "      <td>7380.0</td>\n",
       "      <td>170.66</td>\n",
       "    </tr>\n",
       "    <tr>\n",
       "      <td>South South</td>\n",
       "      <td>1526.08</td>\n",
       "      <td>1026.45</td>\n",
       "      <td>17076.0</td>\n",
       "      <td>499.63</td>\n",
       "    </tr>\n",
       "    <tr>\n",
       "      <td>South West</td>\n",
       "      <td>2774.80</td>\n",
       "      <td>1699.20</td>\n",
       "      <td>74937.0</td>\n",
       "      <td>1075.60</td>\n",
       "    </tr>\n",
       "  </tbody>\n",
       "</table>\n",
       "</div>"
      ],
      "text/plain": [
       "               Initial_budget (Bn)  Revised_budget (Bn)  cases_lab_confirmed  \\\n",
       "region                                                                         \n",
       "North Central              1136.08               760.00              33648.0   \n",
       "North East                  951.13               720.01               6943.0   \n",
       "North West                 1385.07              1078.50              16705.0   \n",
       "South East                  640.86               470.20               7380.0   \n",
       "South South                1526.08              1026.45              17076.0   \n",
       "South West                 2774.80              1699.20              74937.0   \n",
       "\n",
       "               changes  \n",
       "region                  \n",
       "North Central   376.08  \n",
       "North East      231.12  \n",
       "North West      306.57  \n",
       "South East      170.66  \n",
       "South South     499.63  \n",
       "South West     1075.60  "
      ]
     },
     "execution_count": 68,
     "metadata": {},
     "output_type": "execute_result"
    }
   ],
   "source": [
    "dfgroup"
   ]
  },
  {
   "cell_type": "markdown",
   "metadata": {},
   "source": [
    "From the table, the south west region recorded the highest amount of confirmed cases, and also the highest amount of reduction in budget. This is because, the south west region experienced the longest duration of Lock-down, and as such was forced to shut down major economic activities. The effect is seen in budget reduction."
   ]
  },
  {
   "cell_type": "code",
   "execution_count": 70,
   "metadata": {},
   "outputs": [
    {
     "data": {
      "image/png": "[encoded data removed]",
      "text/plain": [
       "<Figure size 432x288 with 1 Axes>"
      ]
     },
     "metadata": {
      "needs_background": "light"
     },
     "output_type": "display_data"
    }
   ],
   "source": [
    "dfplot = dfgroup.reset_index()\n",
    "y = dfplot['region']\n",
    "ax = sns.barplot(x='changes', y=y, data=dfplot)\n",
    "ax.set_xlabel('Budget Reduction (Bn)')\n",
    "ax.set_title('Budget reduction by region')\n",
    "ax.set_ylabel('Region');"
   ]
  },
  {
   "cell_type": "markdown",
   "metadata": {},
   "source": [
    "#### TODO L -\n",
    "Determine the effect of the Pandemic on the economy. To do this, you will compare the Real GDP value Pre-COVID-19 with Real GDP in 2020 (COVID-19 Period, especially Q2 2020)\n",
    "\n",
    "\n",
    "\n",
    "Steps\n",
    "\n",
    "- From the Real GDP Data, generate a barplot using the GDP values for each year & quarters. For example: On x-axis you will have year 2017 and the bars will be values of each quarters(Q1-Q4). You expected to have subplots of each quarters on one graph. \n",
    "    Hint: Use [Pandas.melt]('https://pandas.pydata.org/docs/reference/api/pandas.melt.html') to create your plot DataFrame\n",
    "- Set your quarter legend to lower left.\n",
    "- Using axhline, draw a horizontal line through the graph at the value of Q2 2020.\n",
    "- Write out your observation"
   ]
  },
  {
   "cell_type": "code",
   "execution_count": 72,
   "metadata": {
    "scrolled": false
   },
   "outputs": [
    {
     "data": {
      "image/png": "[encoded data removed]",
      "text/plain": [
       "<Figure size 720x288 with 1 Axes>"
      ]
     },
     "metadata": {
      "needs_background": "light"
     },
     "output_type": "display_data"
    }
   ],
   "source": [
    "plt.figure(figsize=(10,4))\n",
    "columns = [\"Year\", \"Q1\", \"Q2\", \"Q3\", \"Q4\"]\n",
    "test_data_melted = pd.melt(df_readgdp, id_vars=columns[0],\\\n",
    "                           var_name=\"source\", value_name=\"value_numbers\")\n",
    "g = sns.barplot(x=columns[0], y=\"value_numbers\", hue=\"source\",\\\n",
    "                data=test_data_melted)\n",
    "plt.legend(loc='lower left')\n",
    "\n",
    "g.axhline(1.589e7, ls='--')\n",
    "plt.show()"
   ]
  },
  {
   "cell_type": "markdown",
   "metadata": {},
   "source": [
    "#### Observation\n",
    "\n",
    "\n",
    "The second Quarter (Q2) of 2020 has the lowest GDP compare to  Q2 from other years"
   ]
  },
  {
   "cell_type": "code",
   "execution_count": null,
   "metadata": {},
   "outputs": [],
   "source": []
  }
 ],
 "metadata": {
  "kernelspec": {
   "display_name": "Python 3",
   "language": "python",
   "name": "python3"
  },
  "language_info": {
   "codemirror_mode": {
    "name": "ipython",
    "version": 3
   },
   "file_extension": ".py",
   "mimetype": "text/x-python",
   "name": "python",
   "nbconvert_exporter": "python",
   "pygments_lexer": "ipython3",
   "version": "3.7.4"
  }
 },
 "nbformat": 4,
 "nbformat_minor": 2
}
